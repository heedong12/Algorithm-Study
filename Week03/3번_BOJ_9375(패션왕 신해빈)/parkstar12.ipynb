{
 "cells": [
  {
   "cell_type": "code",
   "execution_count": null,
   "metadata": {},
   "outputs": [],
   "source": [
    "T=int(input())\n",
    "\n",
    "for _ in range(T):\n",
    "  N=int(input())\n",
    "  choice= {}\n",
    "\n",
    "  for i in range(N):\n",
    "    product, category=input().split()\n",
    "    if category in choice:\n",
    "      choice[category].append(product)\n",
    "    else:\n",
    "      choice[category]=[product]\n",
    "  count=1\n",
    "  for k in choice:\n",
    "    count *= len(choice[k]) + 1\n",
    "  print(count-1)"
   ]
  }
 ],
 "metadata": {
  "language_info": {
   "name": "python"
  }
 },
 "nbformat": 4,
 "nbformat_minor": 2
}
