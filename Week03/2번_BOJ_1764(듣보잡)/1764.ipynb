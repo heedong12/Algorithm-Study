{
 "cells": [
  {
   "cell_type": "code",
   "execution_count": null,
   "metadata": {},
   "outputs": [],
   "source": [
    "N,M =map(int,input().split())\n",
    "no_listen=set()\n",
    "no_look=set()\n",
    "\n",
    "for _ in range(N):\n",
    "    people=input()\n",
    "    no_listen.add(people)\n",
    "    \n",
    "for _ in range(M):\n",
    "    people2=input()\n",
    "    no_look.add(people2)\n",
    "nolisten_nolook=sorted(no_listen&no_look)\n",
    "print(len(nolisten_nolook))\n",
    "for i in nolisten_nolook:\n",
    "    print(i)"
   ]
  }
 ],
 "metadata": {
  "language_info": {
   "name": "python"
  }
 },
 "nbformat": 4,
 "nbformat_minor": 2
}
