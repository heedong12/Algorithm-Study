{
 "cells": [
  {
   "cell_type": "code",
   "execution_count": null,
   "metadata": {
    "vscode": {
     "languageId": "plaintext"
    }
   },
   "outputs": [],
   "source": [
    "import heapq\n",
    "\n",
    "N , M = map(int,input().split())\n",
    "dic ={}\n",
    "result = []\n",
    "for _ in range(N):\n",
    "    dic[input()] = 1\n",
    "for _ in range(M):\n",
    "    temp = input()\n",
    "    if dic.get(temp):\n",
    "        heapq.heappush(result,temp)\n",
    "print(len(result))\n",
    "for i in range(len(result)):\n",
    "    print(heapq.heappop(result))\n"
   ]
  }
 ],
 "metadata": {
  "language_info": {
   "name": "python"
  }
 },
 "nbformat": 4,
 "nbformat_minor": 2
}
