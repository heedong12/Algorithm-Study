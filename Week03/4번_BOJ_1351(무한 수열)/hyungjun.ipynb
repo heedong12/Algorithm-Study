{
 "cells": [
  {
   "cell_type": "code",
   "execution_count": 14,
   "metadata": {},
   "outputs": [
    {
     "name": "stdout",
     "output_type": "stream",
     "text": [
      "7\n"
     ]
    }
   ],
   "source": [
    "N , P , Q = map(int,input().split())\n",
    "\n",
    "dic ={ 0: 1, 1: 2}\n",
    "\n",
    "def A(i):\n",
    "    if dic.get(i):\n",
    "        return dic[i]\n",
    "    else:\n",
    "        dic[i] = A(i//P) + A(i//Q)\n",
    "        return dic[i]\n",
    "    \n",
    "print(A(N))"
   ]
  }
 ],
 "metadata": {
  "kernelspec": {
   "display_name": "Python 3",
   "language": "python",
   "name": "python3"
  },
  "language_info": {
   "codemirror_mode": {
    "name": "ipython",
    "version": 3
   },
   "file_extension": ".py",
   "mimetype": "text/x-python",
   "name": "python",
   "nbconvert_exporter": "python",
   "pygments_lexer": "ipython3",
   "version": "3.13.1"
  }
 },
 "nbformat": 4,
 "nbformat_minor": 2
}
