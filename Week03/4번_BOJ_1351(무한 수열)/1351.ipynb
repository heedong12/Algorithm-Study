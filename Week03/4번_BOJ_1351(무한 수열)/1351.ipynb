{
 "cells": [
  {
   "cell_type": "code",
   "execution_count": null,
   "metadata": {},
   "outputs": [
    {
     "name": "stdout",
     "output_type": "stream",
     "text": [
      "7\n"
     ]
    }
   ],
   "source": [
    "N,P,Q=map(int,input().split())\n",
    "# 0 : 1\n",
    "# 1 : 1+1 =2\n",
    "# 2 : 2+1 =3\n",
    "# 3 : 2+2 = 4\n",
    "# 4 : 3+2 = 5\n",
    "# 5 : 3+2 = 5\n",
    "# 6 : 4+3 = 7\n",
    "# 7 : 4+3 = 7\n",
    "\n",
    "number = {0:1}\n",
    "\n",
    "def get_number(i):\n",
    "  if i in number:\n",
    "    return number[i]\n",
    "  return get_number(i//P) + get_number(i//Q)\n",
    "\n",
    "print(get_number(N))\n",
    "\n",
    "\n"
   ]
  },
  {
   "cell_type": "code",
   "execution_count": null,
   "metadata": {},
   "outputs": [],
   "source": []
  }
 ],
 "metadata": {
  "kernelspec": {
   "display_name": "Python 3",
   "language": "python",
   "name": "python3"
  },
  "language_info": {
   "codemirror_mode": {
    "name": "ipython",
    "version": 3
   },
   "file_extension": ".py",
   "mimetype": "text/x-python",
   "name": "python",
   "nbconvert_exporter": "python",
   "pygments_lexer": "ipython3",
   "version": "3.13.2"
  }
 },
 "nbformat": 4,
 "nbformat_minor": 2
}
