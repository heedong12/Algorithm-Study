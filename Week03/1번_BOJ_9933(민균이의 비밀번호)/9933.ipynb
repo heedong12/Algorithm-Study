{
 "cells": [
  {
   "cell_type": "code",
   "execution_count": null,
   "metadata": {},
   "outputs": [],
   "source": [
    "N=int(input())\n",
    "password=set()\n",
    "for _ in range(N):\n",
    "    word=input()\n",
    "    password.add(word)\n",
    "for i in password:\n",
    "    reverse_word=i[::-1]\n",
    "    if reverse_word in password:\n",
    "        length=len(reverse_word)\n",
    "        print(length)\n",
    "        print(reverse_word[length//2])\n",
    "        break\n",
    "     \n"
   ]
  }
 ],
 "metadata": {
  "language_info": {
   "name": "python"
  }
 },
 "nbformat": 4,
 "nbformat_minor": 2
}
