{
 "cells": [
  {
   "cell_type": "code",
   "execution_count": null,
   "metadata": {
    "vscode": {
     "languageId": "plaintext"
    }
   },
   "outputs": [],
   "source": [
    "n = int(input())\n",
    "\n",
    "dic = {}\n",
    "for _ in range(n):\n",
    "    current = input()\n",
    "    reverse = current[::-1]\n",
    "    if current in dic.values() or current == reverse:\n",
    "        print(len(current), current[len(current)//2])\n",
    "        break\n",
    "    dic[current] = reverse"
   ]
  }
 ],
 "metadata": {
  "language_info": {
   "name": "python"
  }
 },
 "nbformat": 4,
 "nbformat_minor": 2
}
