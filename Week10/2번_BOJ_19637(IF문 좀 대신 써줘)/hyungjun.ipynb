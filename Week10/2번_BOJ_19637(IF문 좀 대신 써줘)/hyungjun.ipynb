{
 "cells": [
  {
   "metadata": {},
   "cell_type": "code",
   "outputs": [],
   "execution_count": null,
   "source": [
    "n , m = map(int, input().split())\n",
    "chingho = []\n",
    "start = 0\n",
    "for i in range(n):\n",
    "    state , stand = input().split()\n",
    "    stand = int(stand)\n",
    "    if i != 0  and chingho[-1][1] == stand:\n",
    "        continue\n",
    "    chingho.append([state,stand])\n",
    "for i in range(m):\n",
    "    cur = int(input())\n",
    "    start = 0\n",
    "    end = len(chingho) - 1\n",
    "    while start <= end:\n",
    "        mid = (start + end) // 2\n",
    "        if cur <= chingho[mid][1]:\n",
    "            end = mid - 1\n",
    "        else:\n",
    "            start = mid + 1\n",
    "    print(chingho[start][0])"
   ],
   "id": "8a4160434b817afb"
  }
 ],
 "metadata": {
  "kernelspec": {
   "display_name": "Python 3",
   "language": "python",
   "name": "python3"
  },
  "language_info": {
   "codemirror_mode": {
    "name": "ipython",
    "version": 2
   },
   "file_extension": ".py",
   "mimetype": "text/x-python",
   "name": "python",
   "nbconvert_exporter": "python",
   "pygments_lexer": "ipython2",
   "version": "2.7.6"
  }
 },
 "nbformat": 4,
 "nbformat_minor": 5
}
