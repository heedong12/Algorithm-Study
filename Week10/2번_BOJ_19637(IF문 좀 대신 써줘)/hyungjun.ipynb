{
 "cells": [
  {
   "cell_type": "code",
   "id": "initial_id",
   "metadata": {
    "collapsed": true,
    "ExecuteTime": {
     "end_time": "2025-04-14T05:44:19.228655Z",
     "start_time": "2025-04-14T05:44:07.129514Z"
    }
   },
   "source": [
    "def solve(target):\n",
    "    start = 0\n",
    "    end = len(chingho) - 1\n",
    "    while start <= end:\n",
    "        mid = (start + end) // 2\n",
    "        if target <= chingho[mid][1]:\n",
    "            end = mid - 1\n",
    "        else:\n",
    "            start = mid + 1\n",
    "    return chingho[start][0]\n",
    "n , m = map(int, input().split())\n",
    "chingho = []\n",
    "start = 0\n",
    "for i in range(n):\n",
    "    state , stand = input().split()\n",
    "    stand = int(stand)\n",
    "    if i != 0  and chingho[-1][1] == stand:\n",
    "        continue\n",
    "    chingho.append([state,stand])\n",
    "for i in range(m):\n",
    "    cur = int(input())\n",
    "    print(solve(cur))"
   ],
   "outputs": [
    {
     "name": "stdout",
     "output_type": "stream",
     "text": [
      "a\n",
      "a\n",
      "c\n"
     ]
    }
   ],
   "execution_count": 19
  }
 ],
 "metadata": {
  "kernelspec": {
   "display_name": "Python 3",
   "language": "python",
   "name": "python3"
  },
  "language_info": {
   "codemirror_mode": {
    "name": "ipython",
    "version": 2
   },
   "file_extension": ".py",
   "mimetype": "text/x-python",
   "name": "python",
   "nbconvert_exporter": "python",
   "pygments_lexer": "ipython2",
   "version": "2.7.6"
  }
 },
 "nbformat": 4,
 "nbformat_minor": 5
}
