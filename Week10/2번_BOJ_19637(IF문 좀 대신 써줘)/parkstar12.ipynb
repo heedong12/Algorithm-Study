{
 "cells": [
  {
   "cell_type": "code",
   "execution_count": null,
   "id": "92daac83",
   "metadata": {},
   "outputs": [
    {
     "name": "stdout",
     "output_type": "stream",
     "text": [
      "B\n",
      "B\n",
      "C\n",
      "C\n",
      "C\n"
     ]
    }
   ],
   "source": [
    "N,M=map(int,input().split())\n",
    "standard=[]\n",
    "result=[]\n",
    "score_list=[]\n",
    "for _ in range(N):\n",
    "  nick,score=input().split()\n",
    "  standard.append([nick,int(score)])\n",
    "\n",
    "for j in range(M):\n",
    "  person_score=int(input())\n",
    "  score_list.append([person_score,j])\n",
    "\n",
    "score_list.sort(reverse=True)\n",
    "standard_index=0\n",
    "standard_score=standard[standard_index][1]\n",
    "result=[0]*M\n",
    "\n",
    "while score_list:\n",
    "    d_score, result_index = score_list.pop()  # 낮은 점수부터 꺼냄\n",
    "    while d_score > standard_score:\n",
    "        standard_index += 1\n",
    "        standard_score = standard[standard_index][1]\n",
    "    result[result_index] = standard[standard_index][0]\n",
    "  \n",
    "print(\"\\n\".join(result))"
   ]
  },
  {
   "cell_type": "code",
   "execution_count": null,
   "id": "4912ee3b",
   "metadata": {},
   "outputs": [],
   "source": [
    "N, M = map(int, input().split())\n",
    "\n",
    "standard = []\n",
    "for _ in range(N):\n",
    "    nick, score = input().split()\n",
    "    standard.append((int(score), nick))  # 점수 기준으로 정렬되어 있다고 가정\n",
    "\n",
    "people = []\n",
    "for i in range(M):\n",
    "    score = int(input())\n",
    "    people.append((score, i))  # (점수, 입력 순서 인덱스)\n",
    "\n",
    "people.sort()  # 점수 낮은 사람부터 순서대로 처리\n",
    "result = [\"\" for _ in range(M)]\n",
    "stack = []\n",
    "\n",
    "person_index = 0\n",
    "\n",
    "for limit, nickname in standard:\n",
    "    # 현재 기준 점수 이하인 사람들을 stack에 추가\n",
    "    while person_index < M and people[person_index][0] <= limit:\n",
    "        stack.append(people[person_index][1])\n",
    "        person_index += 1\n",
    "\n",
    "    # stack에 있는 사람들 전부 현재 nickname으로 처리\n",
    "    while stack:\n",
    "        idx = stack.pop()\n",
    "        result[idx] = nickname\n",
    "\n",
    "# 출력\n",
    "print(\"\\n\".join(result))\n"
   ]
  }
 ],
 "metadata": {
  "kernelspec": {
   "display_name": "Python 3",
   "language": "python",
   "name": "python3"
  },
  "language_info": {
   "codemirror_mode": {
    "name": "ipython",
    "version": 3
   },
   "file_extension": ".py",
   "mimetype": "text/x-python",
   "name": "python",
   "nbconvert_exporter": "python",
   "pygments_lexer": "ipython3",
   "version": "3.11.9"
  }
 },
 "nbformat": 4,
 "nbformat_minor": 5
}
