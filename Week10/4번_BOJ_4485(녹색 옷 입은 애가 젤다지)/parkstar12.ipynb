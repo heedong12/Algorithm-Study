{
 "cells": [
  {
   "cell_type": "code",
   "execution_count": 18,
   "id": "50f85c24",
   "metadata": {},
   "outputs": [
    {
     "name": "stdout",
     "output_type": "stream",
     "text": [
      "Problem 1: 20\n",
      "Problem 2: 19\n"
     ]
    }
   ],
   "source": [
    "from collections import deque\n",
    "dx=[-1,1,0,0]\n",
    "dy=[0,0,-1,1]\n",
    "result=[]\n",
    "while 1:\n",
    "  N=int(input())\n",
    "  if N==0:\n",
    "    break\n",
    "  board = [list(map(int, input().split())) for _ in range(N)]\n",
    "  score=[[float('inf')] * N for _ in range(N)]\n",
    "  \n",
    "  score[0][0]=board[0][0]\n",
    "  stack=deque()\n",
    "  stack.append([score[0][0],0,0])\n",
    "  \n",
    "  while stack:\n",
    "    before_score,x,y=stack.popleft()\n",
    "    for i in range(4):\n",
    "      nx=x+dx[i]\n",
    "      ny=y+dy[i]\n",
    "      if 0 <= nx < N and 0 <= ny < N:\n",
    "        after_score=before_score+board[nx][ny]\n",
    "        if after_score < score[nx][ny]:\n",
    "            score[nx][ny] = after_score\n",
    "            stack.append([after_score,nx,ny])\n",
    "      else:\n",
    "        continue\n",
    "  result.append(score[N-1][N-1])\n",
    "\n",
    "for r in range(len(result)):\n",
    "  print(f\"Problem {r + 1}: {result[r]}\")"
   ]
  },
  {
   "cell_type": "code",
   "execution_count": null,
   "id": "e3448ada",
   "metadata": {},
   "outputs": [],
   "source": [
    "from collections import deque\n",
    "\n",
    "dx = [-1, 1, 0, 0]\n",
    "dy = [0, 0, -1, 1]\n",
    "result = []\n",
    "\n",
    "while True:\n",
    "    N = int(input())\n",
    "    if N == 0:\n",
    "        break\n",
    "\n",
    "    board = [list(map(int, input().split())) for _ in range(N)]\n",
    "    score = [[float('inf')] * N for _ in range(N)]\n",
    "    score[0][0] = board[0][0]\n",
    "\n",
    "    stack = deque()\n",
    "    stack.append([score[0][0], 0, 0])\n",
    "\n",
    "    while stack:\n",
    "        cost, x, y = stack.popleft()\n",
    "\n",
    "        if cost > score[x][y]:\n",
    "            continue\n",
    "\n",
    "        for i in range(4):\n",
    "            nx = x + dx[i]\n",
    "            ny = y + dy[i]\n",
    "            if 0 <= nx < N and 0 <= ny < N:\n",
    "                new_cost = cost + board[nx][ny]\n",
    "                if new_cost < score[nx][ny]:\n",
    "                    score[nx][ny] = new_cost\n",
    "                    stack.append([new_cost, nx, ny])\n",
    "\n",
    "    result.append(score[N - 1][N - 1])\n",
    "\n",
    "for r in range(len(result)):\n",
    "    print(f\"Problem {r + 1}: {result[r]}\")\n"
   ]
  }
 ],
 "metadata": {
  "kernelspec": {
   "display_name": "Python 3",
   "language": "python",
   "name": "python3"
  },
  "language_info": {
   "codemirror_mode": {
    "name": "ipython",
    "version": 3
   },
   "file_extension": ".py",
   "mimetype": "text/x-python",
   "name": "python",
   "nbconvert_exporter": "python",
   "pygments_lexer": "ipython3",
   "version": "3.11.9"
  }
 },
 "nbformat": 4,
 "nbformat_minor": 5
}
