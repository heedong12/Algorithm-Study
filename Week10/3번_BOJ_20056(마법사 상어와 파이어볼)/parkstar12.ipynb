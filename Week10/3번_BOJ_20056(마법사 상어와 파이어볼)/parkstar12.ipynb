{
 "cells": [
  {
   "cell_type": "code",
   "execution_count": null,
   "id": "dd6773dd",
   "metadata": {},
   "outputs": [
    {
     "data": {
      "text/plain": [
       "22"
      ]
     },
     "execution_count": 4,
     "metadata": {},
     "output_type": "execute_result"
    }
   ],
   "source": [
    "def move():\n",
    "    while fire_ball:\n",
    "        r, c, m, s, d = fire_ball.pop()\n",
    "        board[r][c].remove([m, s, d])\n",
    "        nr = (r + dx[d] * s) % N\n",
    "        nc = (c + dy[d] * s) % N\n",
    "        board[nr][nc].append([m, s, d])\n",
    "    \n",
    "    # 이동 후 겹친 위치는 stack에, 단일 파이어볼은 arr에\n",
    "    for i in range(N):\n",
    "        for j in range(N):\n",
    "            if len(board[i][j]) > 1:\n",
    "                stack.append([i, j])\n",
    "            elif len(board[i][j]) == 1:\n",
    "                m, s, d = board[i][j][0]\n",
    "                arr.append([i, j, m, s, d])\n",
    "\n",
    "def split_ball():\n",
    "    while stack:\n",
    "        r, c = stack.pop()\n",
    "        ball_list = board[r][c][:]\n",
    "        board[r][c].clear()\n",
    "        count = len(ball_list)\n",
    "\n",
    "        sum_m = sum(ball[0] for ball in ball_list)\n",
    "        sum_s = sum(ball[1] for ball in ball_list)\n",
    "        sum_d = sum(ball[2] % 2 for ball in ball_list)\n",
    "\n",
    "        mm = sum_m // 5\n",
    "        if mm == 0:\n",
    "            continue\n",
    "        ss = sum_s // count\n",
    "\n",
    "        directions = d1 if sum_d == 0 or sum_d == count else d2\n",
    "        for d in directions:\n",
    "            arr.append([r, c, mm, ss, d])\n",
    "            board[r][c].append([mm, ss, d])\n",
    "\n",
    "# 입력 처리\n",
    "N, M, K = map(int, input().split())\n",
    "dx = [-1, -1, 0, 1, 1, 1, 0, -1]  # 행 변화\n",
    "dy = [0, 1, 1, 1, 0, -1, -1, -1]  # 열 변화\n",
    "d1 = [0, 2, 4, 6]  # 같은 홀/짝 방향\n",
    "d2 = [1, 3, 5, 7]  # 섞인 방향\n",
    "\n",
    "arr = []\n",
    "fire_ball = []\n",
    "stack = []\n",
    "board = [[[] for _ in range(N)] for _ in range(N)]\n",
    "\n",
    "for _ in range(M):\n",
    "    r, c, m, s, d = map(int, input().split())\n",
    "    arr.append([r - 1, c - 1, m, s, d])\n",
    "    board[r - 1][c - 1].append([m, s, d])\n",
    "\n",
    "# 시뮬레이션\n",
    "for _ in range(K):\n",
    "    fire_ball = arr[:]\n",
    "    arr.clear()\n",
    "    move()\n",
    "    if stack:\n",
    "        split_ball()\n",
    "\n",
    "# 결과 출력\n",
    "result = sum(m for _, _, m, _, _ in arr)\n",
    "print(result)\n"
   ]
  }
 ],
 "metadata": {
  "kernelspec": {
   "display_name": "Python 3",
   "language": "python",
   "name": "python3"
  },
  "language_info": {
   "codemirror_mode": {
    "name": "ipython",
    "version": 3
   },
   "file_extension": ".py",
   "mimetype": "text/x-python",
   "name": "python",
   "nbconvert_exporter": "python",
   "pygments_lexer": "ipython3",
   "version": "3.11.9"
  }
 },
 "nbformat": 4,
 "nbformat_minor": 5
}
