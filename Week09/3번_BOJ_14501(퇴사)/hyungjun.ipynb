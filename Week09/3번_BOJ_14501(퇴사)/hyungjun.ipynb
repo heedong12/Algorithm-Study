{
 "cells": [
  {
   "metadata": {
    "ExecuteTime": {
     "end_time": "2025-04-10T06:30:04.277443Z",
     "start_time": "2025-04-10T06:30:01.110978Z"
    }
   },
   "cell_type": "code",
   "source": [
    "def solve(node,n,price):\n",
    "    if node >= n :\n",
    "        result[0] = max(price,result[0])\n",
    "        return\n",
    "    for i in range(node,n):\n",
    "        if not visited[i]:\n",
    "            visited[i] = True\n",
    "            if i + arrT[i] <= n:\n",
    "                solve(i+arrT[i],n,price+arrP[i])\n",
    "            else:\n",
    "                solve(n+arrT[i],n,price)\n",
    "            visited[i] = False\n",
    "\n",
    "n = int(input())\n",
    "arrT = []\n",
    "arrP = []\n",
    "for _ in range(n):\n",
    "    t, p = map(int, input().split())\n",
    "    arrT.append(t)\n",
    "    arrP.append(p)\n",
    "result = [0]\n",
    "visited = [False] * n\n",
    "solve(0,n,0)\n",
    "print(result[0])\n"
   ],
   "id": "4c8d21d061efa76d",
   "outputs": [
    {
     "name": "stdout",
     "output_type": "stream",
     "text": [
      "10\n"
     ]
    }
   ],
   "execution_count": 6
  }
 ],
 "metadata": {
  "kernelspec": {
   "name": "python3",
   "language": "python",
   "display_name": "Python 3 (ipykernel)"
  }
 },
 "nbformat": 5,
 "nbformat_minor": 9
}
