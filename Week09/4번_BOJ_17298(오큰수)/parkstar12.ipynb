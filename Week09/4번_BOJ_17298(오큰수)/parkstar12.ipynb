{
 "cells": [
  {
   "cell_type": "code",
   "execution_count": null,
   "metadata": {},
   "outputs": [],
   "source": [
    "N = int(input())\n",
    "number = list(map(int, input().split()))\n",
    "result = [-1] * N  \n",
    "stack = []\n",
    "\n",
    "for i in range(N):\n",
    "    while stack and number[stack[-1]] < number[i]:\n",
    "        result[stack.pop()] = number[i]\n",
    "    stack.append(i)\n",
    "\n",
    "print(*result)"
   ]
  }
 ],
 "metadata": {
  "kernelspec": {
   "display_name": "Python 3",
   "language": "python",
   "name": "python3"
  },
  "language_info": {
   "codemirror_mode": {
    "name": "ipython",
    "version": 3
   },
   "file_extension": ".py",
   "mimetype": "text/x-python",
   "name": "python",
   "nbconvert_exporter": "python",
   "pygments_lexer": "ipython3",
   "version": "3.13.2"
  }
 },
 "nbformat": 4,
 "nbformat_minor": 2
}
