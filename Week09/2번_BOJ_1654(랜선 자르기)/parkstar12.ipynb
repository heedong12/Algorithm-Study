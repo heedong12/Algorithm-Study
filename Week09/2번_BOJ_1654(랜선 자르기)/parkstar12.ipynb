{
 "cells": [
  {
   "cell_type": "code",
   "execution_count": null,
   "metadata": {},
   "outputs": [],
   "source": [
    "N,M=map(int,input().split())\n",
    "wides=[int(input()) for _ in range(N)]\n",
    "\n",
    "wides.sort()\n",
    "start=1\n",
    "end=max(wides)+1\n",
    "\n",
    "while start < end:\n",
    "  mid=(start+end)//2\n",
    "  count=0\n",
    "  for wide in wides:\n",
    "    count += wide//mid\n",
    "    \n",
    "  if count >= M:\n",
    "    start = mid+1\n",
    "  else:\n",
    "    end = mid\n",
    "    \n",
    "print(start-1)"
   ]
  }
 ],
 "metadata": {
  "language_info": {
   "name": "python"
  }
 },
 "nbformat": 4,
 "nbformat_minor": 2
}
