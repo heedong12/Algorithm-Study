{
 "cells": [
  {
   "cell_type": "code",
   "id": "initial_id",
   "metadata": {
    "collapsed": true,
    "ExecuteTime": {
     "end_time": "2025-04-08T08:51:04.871853Z",
     "start_time": "2025-04-08T08:50:52.971409Z"
    }
   },
   "source": [
    "def arrSum(arr, target):\n",
    "    temp = 0\n",
    "    for i in arr:\n",
    "        temp += i // target\n",
    "    return temp\n",
    "\n",
    "def solve(n, maxValue, arr):\n",
    "    start = 1\n",
    "    end = maxValue\n",
    "    result = 0\n",
    "\n",
    "    while start <= end:\n",
    "        mid = (start + end) // 2\n",
    "        temp = arrSum(arr, mid)\n",
    "\n",
    "        if temp >= n:\n",
    "            result = mid\n",
    "            start = mid + 1\n",
    "        else:\n",
    "            end = mid - 1\n",
    "\n",
    "    return result\n",
    "\n",
    "k, n = map(int, input().split())\n",
    "arr = [int(input()) for _ in range(k)]\n",
    "\n",
    "maxValue = max(arr)\n",
    "\n",
    "print(solve(n, maxValue, arr))"
   ],
   "outputs": [
    {
     "name": "stdout",
     "output_type": "stream",
     "text": [
      "200\n"
     ]
    }
   ],
   "execution_count": 9
  }
 ],
 "metadata": {
  "kernelspec": {
   "display_name": "Python 3",
   "language": "python",
   "name": "python3"
  },
  "language_info": {
   "codemirror_mode": {
    "name": "ipython",
    "version": 2
   },
   "file_extension": ".py",
   "mimetype": "text/x-python",
   "name": "python",
   "nbconvert_exporter": "python",
   "pygments_lexer": "ipython2",
   "version": "2.7.6"
  }
 },
 "nbformat": 4,
 "nbformat_minor": 5
}
