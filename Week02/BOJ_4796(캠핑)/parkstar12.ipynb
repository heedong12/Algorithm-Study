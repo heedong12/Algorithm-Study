{
 "cells": [
  {
   "cell_type": "code",
   "execution_count": null,
   "metadata": {},
   "outputs": [
    {
     "name": "stdout",
     "output_type": "stream",
     "text": [
      "CASE 1:14\n"
     ]
    }
   ],
   "source": [
    "L,P,N=map(int,input().split())\n",
    "i=1\n",
    "while L!=0 and P!=0 and N!=0:\n",
    "  daycount=N//P\n",
    "  result=daycount*L\n",
    "  result+=min(N%P,L)\n",
    "  print(f\"Case {i}: {result}\")\n",
    "  i+=1\n",
    "  L,P,N=map(int,input().split())"
   ]
  },
  {
   "cell_type": "code",
   "execution_count": null,
   "metadata": {},
   "outputs": [],
   "source": []
  },
  {
   "cell_type": "code",
   "execution_count": null,
   "metadata": {},
   "outputs": [],
   "source": []
  }
 ],
 "metadata": {
  "kernelspec": {
   "display_name": "Python 3",
   "language": "python",
   "name": "python3"
  },
  "language_info": {
   "codemirror_mode": {
    "name": "ipython",
    "version": 3
   },
   "file_extension": ".py",
   "mimetype": "text/x-python",
   "name": "python",
   "nbconvert_exporter": "python",
   "pygments_lexer": "ipython3",
   "version": "3.11.9"
  }
 },
 "nbformat": 4,
 "nbformat_minor": 2
}
