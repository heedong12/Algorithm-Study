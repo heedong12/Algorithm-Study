{
 "cells": [
  {
   "cell_type": "code",
   "execution_count": 2,
   "metadata": {},
   "outputs": [
    {
     "name": "stdout",
     "output_type": "stream",
     "text": [
      "9\n"
     ]
    }
   ],
   "source": [
    "T = int(input())\n",
    "for _ in range(T):\n",
    "    N = int(input())\n",
    "    prices = list(map(int,input().split()))\n",
    "    stack = []\n",
    "    result = 0\n",
    "    for i in range(N):\n",
    "        if (not stack) or stack[-1] <= prices[i]:\n",
    "            stack.append(prices[i])\n",
    "        elif (stack[-1] > prices[i]) or i == N-1:\n",
    "            current = stack.pop()\n",
    "            while(stack):\n",
    "                result += current - stack.pop()\n",
    "            stack.append(prices[i])\n",
    "        if i == N-1:\n",
    "            current = stack.pop()\n",
    "            while(stack):\n",
    "                result += current - stack.pop()\n",
    "    print(result)\n"
   ]
  },
  {
   "cell_type": "code",
   "execution_count": null,
   "metadata": {},
   "outputs": [
    {
     "name": "stdout",
     "output_type": "stream",
     "text": [
      "0\n",
      "0\n",
      "0\n"
     ]
    }
   ],
   "source": [
    "T = int(input())\n",
    "for _ in range(T):\n",
    "    N = int(input())\n",
    "    prices = list(map(int,input().split()))\n",
    "    max_price = 0\n",
    "    result = 0\n",
    "    for i in (N-1,-1,-1):\n",
    "        print(i)\n",
    "        if prices[i] > max_price:\n",
    "            max_price = prices[i]\n",
    "        else:\n",
    "            result += max_price - prices[i]\n",
    "    print(result)\n"
   ]
  }
 ],
 "metadata": {
  "kernelspec": {
   "display_name": "Python 3",
   "language": "python",
   "name": "python3"
  },
  "language_info": {
   "codemirror_mode": {
    "name": "ipython",
    "version": 3
   },
   "file_extension": ".py",
   "mimetype": "text/x-python",
   "name": "python",
   "nbconvert_exporter": "python",
   "pygments_lexer": "ipython3",
   "version": "3.13.1"
  }
 },
 "nbformat": 4,
 "nbformat_minor": 2
}
