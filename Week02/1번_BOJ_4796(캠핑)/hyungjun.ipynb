{
 "cells": [
  {
   "cell_type": "code",
   "execution_count": null,
   "metadata": {},
   "outputs": [
    {
     "name": "stdout",
     "output_type": "stream",
     "text": [
      "Case 1: 14\n",
      "Case 2: 11\n"
     ]
    }
   ],
   "source": [
    "T = 1\n",
    "while(True):\n",
    "    L , P , V = map(int,input().split())\n",
    "    if (L== 0 and P ==0 and V==0):\n",
    "        break\n",
    "    result = 0\n",
    "    while (V - P >0):\n",
    "        result += L\n",
    "        V = V - P\n",
    "    result += L if V > L else V #삼항연산자\n",
    "    print(f'Case {T}: {result}')\n",
    "    T += 1"
   ]
  }
 ],
 "metadata": {
  "kernelspec": {
   "display_name": "Python 3",
   "language": "python",
   "name": "python3"
  },
  "language_info": {
   "codemirror_mode": {
    "name": "ipython",
    "version": 3
   },
   "file_extension": ".py",
   "mimetype": "text/x-python",
   "name": "python",
   "nbconvert_exporter": "python",
   "pygments_lexer": "ipython3",
   "version": "3.8.6"
  }
 },
 "nbformat": 4,
 "nbformat_minor": 2
}
