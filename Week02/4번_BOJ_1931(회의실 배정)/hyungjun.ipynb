{
 "cells": [
  {
   "cell_type": "code",
   "execution_count": null,
   "metadata": {},
   "outputs": [],
   "source": [
    "import heapq\n",
    "\n",
    "N = int(input())\n",
    "final_end = 0\n",
    "heap = []\n",
    "result = 0\n",
    "for _ in range(N):\n",
    "    start , end = map(int,input().split())\n",
    "    heapq.heappush(heap,(end,start))\n",
    "for _ in range(N):\n",
    "    end, start = heapq.heappop(heap)\n",
    "    if start >= final_end:\n",
    "        final_end = end\n",
    "        result += 1\n",
    "\n",
    "print(result)"
   ]
  }
 ],
 "metadata": {
  "language_info": {
   "name": "python"
  }
 },
 "nbformat": 4,
 "nbformat_minor": 2
}
