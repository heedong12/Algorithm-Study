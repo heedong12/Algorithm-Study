import sys

input = sys.stdin.read
data = input().splitlines()

N = int(data[0])
meeting = []

for i in range(1, N + 1):
    start, end = map(int, data[i].split())
    meeting.append((start, end))

# 회의의 끝나는 시간, 그 다음으로 시작 시간을 기준으로 정렬
meeting.sort(key=lambda x: (x[1], x[0]))

result = [meeting[0]]

for i in range(1, N):
    tmp_start, tmp_end = meeting[i]
    if result[-1][1] <= tmp_start:
        result.append((tmp_start, tmp_end))

# 결과 출력
print(len(result))
