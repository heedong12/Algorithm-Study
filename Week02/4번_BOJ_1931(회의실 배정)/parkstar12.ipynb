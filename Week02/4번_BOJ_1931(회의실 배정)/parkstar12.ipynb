from collections import deque
N=int(input())
meeting=deque()
result=deque()
for _ in range(N):
  start,end=map(int,input().split())
  meeting.append((start,end))

meeting=deque(sorted(meeting, key=lambda x: (x[1], x[0]))) #sorted는 리스트를 반환하므로 다시 deque로 변환
result.append(meeting.popleft())

for i in range(N-1):
  if meeting :
    tmp_start, tmp_end=meeting.popleft()
    if result[-1][1]<=tmp_start: #result에 있는 마지막 회의가 끝나는 시간과 다음 회의의 시작시간을 비교교
      result.append((tmp_start,tmp_end))

print(len(result))

#2 2
#1 2
#2 3
