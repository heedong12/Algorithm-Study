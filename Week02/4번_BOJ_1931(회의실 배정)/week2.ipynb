{
 "cells": [
  {
   "cell_type": "code",
   "execution_count": null,
   "metadata": {},
   "outputs": [],
   "source": [
    "import sys\n",
    "\n",
    "input = sys.stdin.read\n",
    "data = input().splitlines()\n",
    "\n",
    "N = int(data[0])\n",
    "meeting = []\n",
    "\n",
    "for i in range(1, N + 1):\n",
    "    start, end = map(int, data[i].split())\n",
    "    meeting.append((start, end))\n",
    "\n",
    "# 회의의 끝나는 시간, 그 다음으로 시작 시간을 기준으로 정렬\n",
    "meeting.sort(key=lambda x: (x[1], x[0]))\n",
    "\n",
    "result = [meeting[0]]\n",
    "\n",
    "for i in range(1, N):\n",
    "    tmp_start, tmp_end = meeting[i]\n",
    "    if result[-1][1] <= tmp_start:\n",
    "        result.append((tmp_start, tmp_end))\n",
    "\n",
    "# 결과 출력\n",
    "print(len(result))\n"
   ]
  }
 ],
 "metadata": {
  "language_info": {
   "name": "python"
  }
 },
 "nbformat": 4,
 "nbformat_minor": 2
}
