{
 "cells": [
  {
   "cell_type": "code",
   "execution_count": null,
   "metadata": {},
   "outputs": [
    {
     "name": "stdout",
     "output_type": "stream",
     "text": [
      "2 2\n",
      "2 3\n",
      "3\n"
     ]
    }
   ],
   "source": [
    "from collections import deque\n",
    "N=int(input())\n",
    "meeting=deque()\n",
    "result=deque()\n",
    "for _ in range(N):\n",
    "  start,end=map(int,input().split())\n",
    "  meeting.append((start,end))\n",
    "\n",
    "meeting=deque(sorted(meeting, key=lambda x: (x[1], x[0]))) #sorted는 리스트를 반환하므로 다시 deque로 변환\n",
    "result.append(meeting.popleft())\n",
    "\n",
    "for i in range(N-1):\n",
    "  if meeting :\n",
    "    tmp_start, tmp_end=meeting.popleft()\n",
    "    if result[-1][1]<=tmp_start: #result에 있는 마지막 회의가 끝나는 시간과 다음 회의의 시작시간을 비교교\n",
    "      result.append((tmp_start,tmp_end))\n",
    "\n",
    "print(len(result))\n",
    "\n",
    "#2 2\n",
    "#1 2\n",
    "#2 3"
   ]
  }
 ],
 "metadata": {
  "kernelspec": {
   "display_name": "Python 3",
   "language": "python",
   "name": "python3"
  },
  "language_info": {
   "codemirror_mode": {
    "name": "ipython",
    "version": 3
   },
   "file_extension": ".py",
   "mimetype": "text/x-python",
   "name": "python",
   "nbconvert_exporter": "python",
   "pygments_lexer": "ipython3",
   "version": "3.13.2"
  }
 },
 "nbformat": 4,
 "nbformat_minor": 2
}
