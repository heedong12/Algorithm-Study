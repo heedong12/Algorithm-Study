{
 "cells": [
  {
   "cell_type": "code",
   "execution_count": null,
   "metadata": {},
   "outputs": [
    {
     "name": "stdout",
     "output_type": "stream",
     "text": [
      "12\n"
     ]
    }
   ],
   "source": [
    "N,K=map(int,input().split())\n",
    "\n",
    "coin=[0]*(N+1)\n",
    "result=0\n",
    "money=K\n",
    "max_conin_index=N # 0으로 설정 시 모든 동전이 K보다 작으면 0으로 설정되어 역순회코드가 작동하지 않음 주의 할 것\n",
    "\n",
    "for i in range(1,N+1): #동전 배열 저장\n",
    "  coin[i]=int(input())\n",
    "\n",
    "  if coin[i]>K: #동전 금액이 K보다 커지면 \n",
    "    max_conin_index=i-1 #K보다 작은 동전 중 가장 큰 동전 인덱스 저장\n",
    "\n",
    "for j in range(max_conin_index,0,-1): #역순회\n",
    "  result += money//coin[j] \n",
    "  money= money%coin[j] #남은금액 저장\n",
    "  if money<=0:\n",
    "    break\n",
    "\n",
    "print(result)"
   ]
  }
 ],
 "metadata": {
  "kernelspec": {
   "display_name": "Python 3",
   "language": "python",
   "name": "python3"
  },
  "language_info": {
   "codemirror_mode": {
    "name": "ipython",
    "version": 3
   },
   "file_extension": ".py",
   "mimetype": "text/x-python",
   "name": "python",
   "nbconvert_exporter": "python",
   "pygments_lexer": "ipython3",
   "version": "3.11.9"
  }
 },
 "nbformat": 4,
 "nbformat_minor": 2
}
