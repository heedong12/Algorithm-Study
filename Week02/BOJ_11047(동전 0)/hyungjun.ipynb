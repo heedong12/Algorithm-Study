{
 "cells": [
  {
   "cell_type": "code",
   "execution_count": null,
   "metadata": {},
   "outputs": [],
   "source": [
    "N , K = map(int,input().split())\n",
    "coins = []\n",
    "for _ in range(N):\n",
    "    coins.append(int(input()))\n",
    "\n",
    "result = 0\n",
    "while(coins):\n",
    "    current = coins.pop()\n",
    "    if K // current != 0:\n",
    "        result += K // current\n",
    "        K = K % current\n",
    "    if K == 0:\n",
    "        break\n",
    "print(result)\n",
    "print(result)"
   ]
  }
 ],
 "metadata": {
  "language_info": {
   "name": "python"
  }
 },
 "nbformat": 4,
 "nbformat_minor": 2
}
