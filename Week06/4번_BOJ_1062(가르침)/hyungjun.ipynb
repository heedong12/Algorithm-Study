{
 "cells": [
  {
   "cell_type": "code",
   "execution_count": null,
   "metadata": {},
   "outputs": [
    {
     "name": "stdout",
     "output_type": "stream",
     "text": [
      "word: ['q', 'g', 's', 'l', 'b', 'u', 'o', 'm', 'r', 'j']\n",
      "3\n"
     ]
    }
   ],
   "source": [
    "\n",
    "N , K = map(int,input().split())\n",
    "if K < 5:\n",
    "    print(0)\n",
    "    exit(0)\n",
    "else:\n",
    "    K -= 5\n",
    "dic = {\"a\" : 1 , \"n\" : 1 , \"t\" : 1, \"i\": 1, \"c\": 1}\n",
    "newWordDic = {}\n",
    "newWord = []\n",
    "sentence = []\n",
    "result = 0\n",
    "for l in range(N):\n",
    "    fail = False\n",
    "    temp = input()\n",
    "    length = len(temp)\n",
    "    sentence.append(\"\")\n",
    "    for i in temp[4:length-4]:\n",
    "        if dic.get(i):\n",
    "            continue\n",
    "        if newWordDic.get(i):\n",
    "            if i not in sentence[l]:\n",
    "                sentence[l] += i\n",
    "        else:\n",
    "            sentence[l] += i\n",
    "            newWordDic[i] = 1\n",
    "            newWord.append(i)\n",
    "visited = [False] * len(newWord)\n",
    "if K > len(newWord):\n",
    "    K = len(newWord)\n",
    "maxLearn = [0]\n",
    "def backtracking(word, k, depth,valid):\n",
    "    if k == depth:  \n",
    "        result = 0\n",
    "        for s in sentence:\n",
    "            control = False\n",
    "            for a in s:\n",
    "                if a in valid:\n",
    "                    continue\n",
    "                control = True\n",
    "                break\n",
    "            if not control:\n",
    "                result += 1\n",
    "        if result > maxLearn[0]:    \n",
    "            maxLearn[0] = result\n",
    "        return\n",
    "    for i in range(len(word)):\n",
    "        if not visited[i]:\n",
    "            visited[i] = True\n",
    "            valid.append(word[i])\n",
    "            backtracking(word,k,depth+1,valid)\n",
    "            visited[i] = False\n",
    "            valid.pop()\n",
    "backtracking(newWord,K,0,[])\n",
    "print(maxLearn[0])"
   ]
  },
  {
   "cell_type": "code",
   "execution_count": null,
   "metadata": {},
   "outputs": [],
   "source": []
  }
 ],
 "metadata": {
  "kernelspec": {
   "display_name": "Python 3",
   "language": "python",
   "name": "python3"
  },
  "language_info": {
   "codemirror_mode": {
    "name": "ipython",
    "version": 3
   },
   "file_extension": ".py",
   "mimetype": "text/x-python",
   "name": "python",
   "nbconvert_exporter": "python",
   "pygments_lexer": "ipython3",
   "version": "3.13.1"
  }
 },
 "nbformat": 4,
 "nbformat_minor": 2
}
