{
 "cells": [
  {
   "cell_type": "code",
   "execution_count": null,
   "metadata": {},
   "outputs": [
    {
     "name": "stdout",
     "output_type": "stream",
     "text": [
      "word: ['q', 'g', 's', 'l', 'b', 'u', 'o', 'm', 'r', 'j']\n",
      "3\n"
     ]
    }
   ],
   "source": [
    "import sys\n",
    "input = sys.stdin.readline\n",
    "N , K = map(int,input().split())\n",
    "# K가 5보다 작으면 아무것도 배울 수 없음\n",
    "if K < 5:\n",
    "    print(0)\n",
    "    exit(0)\n",
    "# 기본적으로 배우는 앞뒤단어에 해당하는 알파벳 5개\n",
    "else:\n",
    "    K -= 5\n",
    "dic = {\"a\" : 1 , \"n\" : 1 , \"t\" : 1, \"i\": 1, \"c\": 1}\n",
    "newWordDic = {} #새로운 단어 체크\n",
    "newWord = []    #새로운 단어 리스트\n",
    "sentence = []   #앞뒤 4개뺀 단어 중 중복알파벳 x\n",
    "result = 0\n",
    "for l in range(N):\n",
    "    temp = input()\n",
    "    length = len(temp)\n",
    "    sentence.append(\"\")\n",
    "    slicing = temp[4:length-4] #앞뒤 4개씩 뺀 단어\n",
    "    for i in slicing:\n",
    "        sentenceCheck ={}    #문장에 같은 알파벳있는지 체크\n",
    "        if dic.get(i):       #앞뒤 4개에 해당하는 알파벳이면 건너뛰기\n",
    "            continue\n",
    "        if not sentenceCheck.get(i):    #한 문장에 같은 알파벳은 1개만\n",
    "            sentence[l] += i\n",
    "        if not newWordDic.get(i):       #모든 단어중에서 중복알파벳 피하기\n",
    "            newWordDic[i] = 1\n",
    "            newWord.append(i)\n",
    "visited = [False] * len(newWord)\n",
    "if K >= len(newWord):   #K가 새로배우는 알파벳이상이면 다 배울 수 잇음\n",
    "    print(N)\n",
    "    exit(0)\n",
    "maxLearn = [0]\n",
    "def backtracking(word, start, k, depth,valid):\n",
    "    if k == depth:  \n",
    "        result = 0\n",
    "        for s in sentence:  # 모든 문장 탐색\n",
    "            control = False\n",
    "            for a in s:     #문장의 모든 알파벳 탐색\n",
    "                if a in valid:  #알파벳이 newWord에서 k개 선택한 알파벳중에 모두 있으면 통과\n",
    "                    continue\n",
    "                control = True  #아니면 결과에 포함 안시킴\n",
    "                break\n",
    "            if not control:\n",
    "                result += 1\n",
    "        if result > maxLearn[0]:    \n",
    "            maxLearn[0] = result\n",
    "        return\n",
    "    for i in range(start,len(word)):\n",
    "        if not visited[i]:\n",
    "            visited[i] = True\n",
    "            valid.append(word[i])\n",
    "            backtracking(word,i+1,k,depth+1,valid)\n",
    "            visited[i] = False\n",
    "            valid.pop()\n",
    "for start in range(len(newWord)):\n",
    "    backtracking(newWord,start,K,0,[])\n",
    "print(maxLearn[0])"
   ]
  }
 ],
 "metadata": {
  "kernelspec": {
   "display_name": "Python 3",
   "language": "python",
   "name": "python3"
  },
  "language_info": {
   "codemirror_mode": {
    "name": "ipython",
    "version": 3
   },
   "file_extension": ".py",
   "mimetype": "text/x-python",
   "name": "python",
   "nbconvert_exporter": "python",
   "pygments_lexer": "ipython3",
   "version": "3.8.6"
  }
 },
 "nbformat": 4,
 "nbformat_minor": 2
}
