{
 "cells": [
  {
   "cell_type": "code",
   "execution_count": null,
   "metadata": {},
   "outputs": [],
   "source": [
    "import sys\n",
    "input = sys.stdin.readline\n",
    "N , K = map(int,input().split())\n",
    "# K가 5보다 작으면 아무것도 배울 수 없음\n",
    "if K < 5:\n",
    "    print(0)\n",
    "    exit(0)\n",
    "# 기본적으로 배우는 앞뒤단어에 해당하는 알파벳 5개\n",
    "else:\n",
    "    K -= 5\n",
    "dic = {\"a\", \"n\", \"t\", \"i\", \"c\"}\n",
    "newWord = set()    #새로운 단어 리스트 중복 x\n",
    "sentence = []   #앞뒤 4개뺀 단어 중 중복알파벳 x\n",
    "result = 0\n",
    "for l in range(N):\n",
    "    temp = input()\n",
    "    length = len(temp)\n",
    "    slicing = set(temp[4:length-4]) #앞뒤 4개씩 뺀 단어 중복제거거\n",
    "    slicing -= dic              #단어중에 이미 dic에 있는 알파벳 제거\n",
    "    sentence.append(slicing)\n",
    "    for i in slicing:\n",
    "        newWord.add(i)\n",
    "newWord = list(newWord)         #인덱싱하기위해 리스트로 변환\n",
    "visited = [False] * len(newWord)\n",
    "if K >= len(newWord):   #K가 새로배우는 알파벳이상이면 다 배울 수 잇음\n",
    "    print(N)\n",
    "    exit(0)\n",
    "maxLearn = [0]\n",
    "def backtracking(word, start, k, depth,valid):\n",
    "    if k == depth:  \n",
    "        result = 0\n",
    "        for s in sentence:  # 모든 문장 탐색\n",
    "            control = False\n",
    "            for a in s:     #문장의 모든 알파벳 탐색\n",
    "                if a in valid:  #알파벳이 newWord에서 k개 선택한 알파벳중에 모두 있으면 통과\n",
    "                    continue\n",
    "                control = True  #아니면 결과에 포함 안시킴\n",
    "                break\n",
    "            if not control:\n",
    "                result += 1\n",
    "        if result > maxLearn[0]:    \n",
    "            maxLearn[0] = result\n",
    "        return\n",
    "    for i in range(start,len(word)):\n",
    "        if not visited[i]:\n",
    "            visited[i] = True\n",
    "            valid.append(word[i])\n",
    "            backtracking(word,i+1,k,depth+1,valid)\n",
    "            visited[i] = False\n",
    "            valid.pop()\n",
    "for start in range(len(newWord)):\n",
    "    backtracking(newWord,start,K,0,[])\n",
    "print(maxLearn[0])"
   ]
  }
 ],
 "metadata": {
  "kernelspec": {
   "display_name": "Python 3",
   "language": "python",
   "name": "python3"
  },
  "language_info": {
   "codemirror_mode": {
    "name": "ipython",
    "version": 3
   },
   "file_extension": ".py",
   "mimetype": "text/x-python",
   "name": "python",
   "nbconvert_exporter": "python",
   "pygments_lexer": "ipython3",
   "version": "3.8.6"
  }
 },
 "nbformat": 4,
 "nbformat_minor": 2
}
