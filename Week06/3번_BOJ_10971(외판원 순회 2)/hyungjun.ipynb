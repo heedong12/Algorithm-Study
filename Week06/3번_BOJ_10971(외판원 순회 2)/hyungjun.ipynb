{
 "cells": [
  {
   "cell_type": "code",
   "execution_count": null,
   "metadata": {},
   "outputs": [
    {
     "name": "stdout",
     "output_type": "stream",
     "text": [
      "35\n"
     ]
    }
   ],
   "source": [
    "def backtracking(W, prev, N , depth,cost):\n",
    "    # 마지막까지 backtracking하면 비용계산\n",
    "    if N == depth:\n",
    "        if W[prev][order[0]]:\n",
    "            return\n",
    "        cost += W[prev][order[0]]\n",
    "        if cost < mincost[0]:\n",
    "            mincost[0] =cost\n",
    "        return \n",
    "    for i in range(N):\n",
    "        if not visited[i]:\n",
    "            #w가 0이면 넘어감\n",
    "            if not W[prev][i] :\n",
    "                continue\n",
    "            #backtracking하는 과정\n",
    "            visited[i] = True\n",
    "            order.append(i)\n",
    "            cost += W[prev][i]\n",
    "            backtracking(W,i,N,depth+1,cost)\n",
    "            cost -= W[prev][i]\n",
    "            order.pop()\n",
    "            visited[i] = False\n",
    "\n",
    "N = int(input())\n",
    "W = []\n",
    "for _ in range(N):\n",
    "    W.append(list(map(int,input().split())))\n",
    "visited  = [False] * N\n",
    "mincost = [float('inf')]\n",
    "for i in range(N):\n",
    "    order = [i]\n",
    "    visited[i] = True\n",
    "    backtracking(W,i,N,1,0)\n",
    "    visited[i] = False\n",
    "print(mincost[0])"
   ]
  },
  {
   "cell_type": "code",
   "execution_count": null,
   "metadata": {},
   "outputs": [],
   "source": [
    "\n",
    "N = int(input())\n",
    "W = []\n",
    "for _ in range(N):\n",
    "    W.append(list(map(int,input().split())))\n",
    "dp = [[float('inf')] * N for _ in range(1<<N)]  #열이 2**N개 행이 N개 dp생성\n",
    "mincost = [float('inf')]\n",
    "def backtracking(first,current,visited,cost,depth):\n",
    "    if N == depth:  \n",
    "        if W[current][first] != 0:     #비용이 0이 아닐때\n",
    "            mincost[0] = min(mincost[0], cost+ W[current][first])   #최소비용 갱신\n",
    "        return\n",
    "    if dp[visited][current] < cost:     #이미 dp에 있다면 그거 사용\n",
    "        return\n",
    "    for i in range(N):\n",
    "        if not visited & (1<<i) and W[current][i] != 0:   #방문하지않았던 도시이고 비용이 0이아니면\n",
    "            newVisited = visited | (1<<i)       #방문값 갱신\n",
    "            newCost = cost + W[current][i]      #비용 갱신\n",
    "            if dp[newVisited][i] > newCost:     #dp값과 비교해서 새로운 비용이 더 작다면\n",
    "                dp[newVisited][i]= newCost\n",
    "                backtracking(first,i,newVisited,newCost,depth+1)\n",
    "visited = 1\n",
    "dp[visited][0] = 0\n",
    "backtracking(0,0,visited,0,1)\n",
    "print(mincost[0])"
   ]
  }
 ],
 "metadata": {
  "kernelspec": {
   "display_name": "Python 3",
   "language": "python",
   "name": "python3"
  },
  "language_info": {
   "codemirror_mode": {
    "name": "ipython",
    "version": 3
   },
   "file_extension": ".py",
   "mimetype": "text/x-python",
   "name": "python",
   "nbconvert_exporter": "python",
   "pygments_lexer": "ipython3",
   "version": "3.13.1"
  }
 },
 "nbformat": 4,
 "nbformat_minor": 2
}
