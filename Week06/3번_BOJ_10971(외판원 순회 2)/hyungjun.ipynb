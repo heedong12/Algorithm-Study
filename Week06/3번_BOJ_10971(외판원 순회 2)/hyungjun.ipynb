{
 "cells": [
  {
   "cell_type": "code",
   "execution_count": null,
   "metadata": {},
   "outputs": [
    {
     "name": "stdout",
     "output_type": "stream",
     "text": [
      "0 1 3 2\n",
      "0 2 1 3\n",
      "2 0 3 0 1\n",
      "13\n"
     ]
    }
   ],
   "source": [
    "def backtracking(W, prev, N , depth):\n",
    "    if N == depth:\n",
    "        cost = 0\n",
    "        length = len(order)\n",
    "        order.append(order[0])\n",
    "        if not W[order[N-1]][order[N]]:\n",
    "            order.pop()\n",
    "            return \n",
    "        for i in range(length):\n",
    "            cost += W[order[i]][order[i+1]]\n",
    "        order.pop()\n",
    "        if cost < mincost[0]:\n",
    "            mincost[0] = cost\n",
    "        return \n",
    "    for i in range(N):\n",
    "        if not visited[i]:\n",
    "            if not W[prev][i] :\n",
    "                continue\n",
    "            else:\n",
    "                visited[i] = True\n",
    "                if prev >= 0:\n",
    "                    temp = W[prev][i]\n",
    "                else:\n",
    "                    temp = 0\n",
    "                order.append(i)\n",
    "                backtracking(W,i,N,depth+1)\n",
    "                order.pop()\n",
    "                visited[i] = False\n",
    "\n",
    "N = int(input())\n",
    "W = []\n",
    "for _ in range(N):\n",
    "    W.append(list(map(int,input().split())))\n",
    "visited  = [False] * N\n",
    "order = []\n",
    "mincost = [float('inf')]\n",
    "backtracking(W,-1,N,0)\n",
    "print(mincost[0])"
   ]
  },
  {
   "cell_type": "code",
   "execution_count": null,
   "metadata": {},
   "outputs": [
    {
     "name": "stdout",
     "output_type": "stream",
     "text": [
      "35\n"
     ]
    }
   ],
   "source": [
    "def backtracking(W, prev, N , depth,cost):\n",
    "    if N == depth:\n",
    "        if W[prev][order[0]]:\n",
    "            return\n",
    "        cost += W[prev][order[0]]\n",
    "        if cost < mincost[0]:\n",
    "            mincost[0] =cost\n",
    "        return \n",
    "    for i in range(N):\n",
    "        if not visited[i]:\n",
    "            if not W[prev][i] :\n",
    "                continue\n",
    "            visited[i] = True\n",
    "            order.append(i)\n",
    "            cost += W[prev][i]\n",
    "            backtracking(W,i,N,depth+1,cost)\n",
    "            cost -= W[prev][i]\n",
    "            order.pop()\n",
    "            visited[i] = False\n",
    "\n",
    "N = int(input())\n",
    "W = []\n",
    "for _ in range(N):\n",
    "    W.append(list(map(int,input().split())))\n",
    "visited  = [False] * N\n",
    "mincost = [float('inf')]\n",
    "for i in range(N):\n",
    "    order = [i]\n",
    "    visited[i] = True\n",
    "    backtracking(W,i,N,1,0)\n",
    "    visited[i] = False\n",
    "print(mincost[0])"
   ]
  },
  {
   "cell_type": "code",
   "execution_count": null,
   "metadata": {},
   "outputs": [],
   "source": []
  }
 ],
 "metadata": {
  "kernelspec": {
   "display_name": "Python 3",
   "language": "python",
   "name": "python3"
  },
  "language_info": {
   "codemirror_mode": {
    "name": "ipython",
    "version": 3
   },
   "file_extension": ".py",
   "mimetype": "text/x-python",
   "name": "python",
   "nbconvert_exporter": "python",
   "pygments_lexer": "ipython3",
   "version": "3.13.1"
  }
 },
 "nbformat": 4,
 "nbformat_minor": 2
}
