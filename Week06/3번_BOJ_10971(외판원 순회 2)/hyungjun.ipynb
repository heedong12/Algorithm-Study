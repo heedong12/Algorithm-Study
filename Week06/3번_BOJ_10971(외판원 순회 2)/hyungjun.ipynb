{
 "cells": [
  {
   "cell_type": "code",
   "execution_count": null,
   "metadata": {},
   "outputs": [],
   "source": [
    "def backtracking(W, prev, N , depth,cost,first):\n",
    "    if N == depth:\n",
    "        cost += W[prev][first]\n",
    "        if cost < mincost[0]:\n",
    "            mincost[0] = cost\n",
    "        return \n",
    "    for i in range(N):\n",
    "        if not visited[i]:\n",
    "            if prev == -1:\n",
    "                first = i\n",
    "                backtracking(W,i,N,depth,cost,first)\n",
    "            else:\n",
    "                visited[i] = True\n",
    "                cost += W[prev][i]\n",
    "                backtracking(W,i,N,depth+1,cost,first)\n",
    "                cost -= W[prev][i]\n",
    "                visited[i] = False\n",
    "\n",
    "N = int(input())\n",
    "W = []\n",
    "for _ in range(N):\n",
    "    W.append(list(map(int,input().split())))\n",
    "visited  = [False] * N\n",
    "mincost = [float('inf')]\n",
    "backtracking(W,-1,N,0,0,None)\n",
    "print(mincost[0])"
   ]
  },
  {
   "cell_type": "code",
   "execution_count": null,
   "metadata": {},
   "outputs": [],
   "source": [
    "def backtracking(W, prev, N , depth,cost):\n",
    "    print(\"prev: \",prev)\n",
    "    if N == depth:\n",
    "        if cost < mincost[0]:\n",
    "            mincost[0] = cost\n",
    "        return \n",
    "    for i in range(N):\n",
    "        if not visited[i]:\n",
    "            \n",
    "            if prev == -1:\n",
    "                backtracking(W,i,N,depth+1,cost)\n",
    "            else:\n",
    "                visited[i] = True\n",
    "                cost += W[prev][i]\n",
    "                backtracking(W,i,N,depth+1,cost)\n",
    "                cost -= W[prev][i]\n",
    "                visited[i] = False\n",
    "\n",
    "N = int(input())\n",
    "W = []\n",
    "for _ in range(N):\n",
    "    W.append(list(map(int,input().split())))\n",
    "visited  = [False] * N\n",
    "mincost = [float('inf')]\n",
    "backtracking(W,-1,N,0,0)\n",
    "print(mincost[0])"
   ]
  }
 ],
 "metadata": {
  "language_info": {
   "name": "python"
  }
 },
 "nbformat": 4,
 "nbformat_minor": 2
}
