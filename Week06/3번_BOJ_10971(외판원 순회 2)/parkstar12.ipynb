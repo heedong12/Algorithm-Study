{
 "cells": [
  {
   "cell_type": "code",
   "execution_count": null,
   "metadata": {},
   "outputs": [],
   "source": [
    "def find_min_cost(n, citys):\n",
    "    # 최소 비용을 무한대로 초기화\n",
    "    result = float('inf')\n",
    "    \n",
    "    # 방문 여부 체크\n",
    "    visited = [False] * n\n",
    "    \n",
    "    # 현재까지의 경로와 비용을 받는 백트래킹 함수\n",
    "    def backtrack(path, cost):\n",
    "        nonlocal result\n",
    "        \n",
    "        # 만약 모든 도시를 방문했으면, 첫 번째 도시로 돌아가는 비용 추가\n",
    "        if len(path) == n:\n",
    "            cost += citys[path[-1]][path[0]]  # 마지막 도시에서 첫 번째 도시로 돌아가는 비용\n",
    "            result = min(result, cost)  # 최소 비용 갱신\n",
    "            return\n",
    "        \n",
    "        # 남은 도시들에서 순차적으로 선택\n",
    "        for i in range(n):\n",
    "            if not visited[i]:\n",
    "                visited[i] = True\n",
    "                backtrack(path + [i], cost + (citys[path[-1]][i] if path else 0))  # 첫 번째 도시인 경우 0부터 시작\n",
    "                visited[i] = False\n",
    "    \n",
    "    # 첫 번째 도시부터 시작 (0번 도시부터 출발)\n",
    "    for start in range(n):\n",
    "        visited[start] = True\n",
    "        backtrack([start], 0)\n",
    "        visited[start] = False\n",
    "    \n",
    "    return result\n",
    "\n",
    "# 입력 받기\n",
    "N = int(input())\n",
    "citys = [list(map(int, input().split())) for _ in range(N)]\n",
    "\n",
    "# 최소 비용 계산\n",
    "result = find_min_cost(N, citys)\n",
    "print(result)\n"
   ]
  },
  {
   "cell_type": "code",
   "execution_count": 2,
   "metadata": {},
   "outputs": [
    {
     "name": "stdout",
     "output_type": "stream",
     "text": [
      "35\n"
     ]
    }
   ],
   "source": [
    "def solve(citys, N):\n",
    "    min_cost = float('inf')  # 최소 비용을 저장할 변수\n",
    "    visited = [False] * N  # 방문 여부 리스트\n",
    "\n",
    "    def backtrack(path, cost, count):\n",
    "        nonlocal min_cost\n",
    "        \n",
    "        # 모든 도시를 방문한 경우, 시작 도시로 돌아갈 수 있는지 확인\n",
    "        if count == N:\n",
    "            if citys[path][0] > 0:  # 시작점으로 돌아가는 길이 있을 때\n",
    "                min_cost = min(min_cost, cost + citys[path][0])\n",
    "            return\n",
    "\n",
    "        # 현재 도시에서 이동할 수 있는 다른 도시 탐색\n",
    "        for next_city in range(N):\n",
    "            if not visited[next_city] and citys[path][next_city] > 0:  # 방문 안 했고 길이 있을 때\n",
    "                visited[next_city] = True\n",
    "                backtrack(next_city, cost + citys[path][next_city], count + 1)\n",
    "                visited[next_city] = False  # 백트래킹\n",
    "\n",
    "    # 0번 도시에서 출발\n",
    "    visited[0] = True\n",
    "    backtrack(0, 0, 1)\n",
    "\n",
    "    return min_cost\n",
    "\n",
    "# 입력 받기\n",
    "N = int(input())\n",
    "citys = [list(map(int,input().split())) for _ in range(N)]\n",
    "\n",
    "# 최소 비용 계산 및 출력\n",
    "print(solve(citys, N))\n"
   ]
  }
 ],
 "metadata": {
  "kernelspec": {
   "display_name": "Python 3",
   "language": "python",
   "name": "python3"
  },
  "language_info": {
   "codemirror_mode": {
    "name": "ipython",
    "version": 3
   },
   "file_extension": ".py",
   "mimetype": "text/x-python",
   "name": "python",
   "nbconvert_exporter": "python",
   "pygments_lexer": "ipython3",
   "version": "3.13.2"
  }
 },
 "nbformat": 4,
 "nbformat_minor": 2
}
