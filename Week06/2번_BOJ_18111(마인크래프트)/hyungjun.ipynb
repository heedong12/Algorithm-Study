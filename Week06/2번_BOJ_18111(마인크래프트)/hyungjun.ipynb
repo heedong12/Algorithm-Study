{
 "cells": [
  {
   "cell_type": "code",
   "execution_count": null,
   "metadata": {},
   "outputs": [
    {
     "name": "stdout",
     "output_type": "stream",
     "text": [
      "507 5\n"
     ]
    }
   ],
   "source": [
    "import sys\n",
    "\n",
    "input = sys.stdin.readline\n",
    "\n",
    "#평평하게 만들기 H보다 크면 깎고 H보다 작으면 채운다\n",
    "def flat(block, H,B):\n",
    "    time = 0\n",
    "    inventory = B\n",
    "    for i in block:\n",
    "        for j in i:\n",
    "            if H < j :\n",
    "                time += 2 * (j-H)\n",
    "                inventory += j-H\n",
    "            else:\n",
    "                time += H-j\n",
    "                inventory -= H-j\n",
    "    if inventory < 0:\n",
    "            return float('inf')\n",
    "    return time\n",
    "\n",
    "N , M ,B = map(int,input().split())\n",
    "\n",
    "block = []\n",
    "minH = 257\n",
    "maxH = 0\n",
    "mintime = float('inf')\n",
    "#한줄 받을때마다 최솟값 최대값 갱신\n",
    "for i in range(N):\n",
    "    temp = list(map(int,input().split()))\n",
    "    maxTemp = max(temp)\n",
    "    minTemp = min(temp)\n",
    "    if maxH < maxTemp:\n",
    "        maxH = maxTemp\n",
    "    if minH > minTemp:\n",
    "        minH = minTemp\n",
    "    block.append(temp)\n",
    "#모든 줄에 대하여 시간비교\n",
    "for h in range(minH , maxH+1):\n",
    "    time = flat(block,h,B)\n",
    "    if mintime >= time:\n",
    "        mintime = time\n",
    "        result = h\n",
    "    \n",
    "print(mintime,result)\n"
   ]
  }
 ],
 "metadata": {
  "kernelspec": {
   "display_name": "Python 3",
   "language": "python",
   "name": "python3"
  },
  "language_info": {
   "codemirror_mode": {
    "name": "ipython",
    "version": 3
   },
   "file_extension": ".py",
   "mimetype": "text/x-python",
   "name": "python",
   "nbconvert_exporter": "python",
   "pygments_lexer": "ipython3",
   "version": "3.13.1"
  }
 },
 "nbformat": 4,
 "nbformat_minor": 2
}
