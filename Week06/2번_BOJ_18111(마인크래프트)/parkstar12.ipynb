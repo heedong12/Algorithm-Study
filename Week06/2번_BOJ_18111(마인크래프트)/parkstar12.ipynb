{
 "cells": [
  {
   "cell_type": "code",
   "execution_count": null,
   "metadata": {},
   "outputs": [
    {
     "ename": "ValueError",
     "evalue": "not enough values to unpack (expected 3, got 0)",
     "output_type": "error",
     "traceback": [
      "\u001b[31m---------------------------------------------------------------------------\u001b[39m",
      "\u001b[31mValueError\u001b[39m                                Traceback (most recent call last)",
      "\u001b[36mCell\u001b[39m\u001b[36m \u001b[39m\u001b[32mIn[23]\u001b[39m\u001b[32m, line 1\u001b[39m\n\u001b[32m----> \u001b[39m\u001b[32m1\u001b[39m N,M,B = \u001b[38;5;28mmap\u001b[39m(\u001b[38;5;28mint\u001b[39m,\u001b[38;5;28minput\u001b[39m().split())\n\u001b[32m      3\u001b[39m land={}\n\u001b[32m      4\u001b[39m min_value=[\u001b[38;5;28mfloat\u001b[39m(\u001b[33m\"\u001b[39m\u001b[33minf\u001b[39m\u001b[33m\"\u001b[39m),\u001b[32m0\u001b[39m]\n",
      "\u001b[31mValueError\u001b[39m: not enough values to unpack (expected 3, got 0)"
     ]
    }
   ],
   "source": [
    "N,M,B = map(int,input().split())\n",
    "\n",
    "land={}\n",
    "min_value=[float(\"inf\"),0]\n",
    "ans=0\n",
    "\n",
    "for _ in range(N):\n",
    "  numbers=map(int,input().split())\n",
    "  for num in numbers:\n",
    "    if num in land:\n",
    "      land[num] += 1\n",
    "    else :\n",
    "      land[num] = 1\n",
    "      \n",
    "sorted_land = sorted(land.items(), key=lambda x: x[1], reverse=True)\n",
    "\n",
    "if N==1 and M==1:\n",
    "    for item in sorted_land:\n",
    "        print(0,item[0])\n",
    "\n",
    "else :\n",
    "  if len(sorted_land)==1:\n",
    "    print(0,sorted_land[1])\n",
    "  for i in sorted_land:\n",
    "    dif=0\n",
    "    for j in sorted_land:\n",
    "      if i == j :\n",
    "        continue\n",
    "      dif += (i[0]-j[0])*j[1]\n",
    "    \n",
    "      if dif == 0:\n",
    "          min_value = [0, i[0]]\n",
    "      if dif < 0:\n",
    "          # 블록을 파야하는 경우\n",
    "          if min_value[0] > dif * -2:\n",
    "              min_value = [dif * -2, i[0]]\n",
    "      if 0 < dif <= B:\n",
    "          # 블록을 쌓을 수 있는 경우\n",
    "          if min_value[0] > dif:\n",
    "              min_value = [dif, i[0]]\n",
    "      \n",
    "    if B < dif:\n",
    "      continue\n",
    "  print(min_value[0], min_value[1])\n",
    "\n",
    "\n",
    "  \n",
    "  "
   ]
  },
  {
   "cell_type": "code",
   "execution_count": null,
   "metadata": {},
   "outputs": [],
   "source": []
  }
 ],
 "metadata": {
  "kernelspec": {
   "display_name": "Python 3",
   "language": "python",
   "name": "python3"
  },
  "language_info": {
   "codemirror_mode": {
    "name": "ipython",
    "version": 3
   },
   "file_extension": ".py",
   "mimetype": "text/x-python",
   "name": "python",
   "nbconvert_exporter": "python",
   "pygments_lexer": "ipython3",
   "version": "3.11.9"
  }
 },
 "nbformat": 4,
 "nbformat_minor": 2
}
