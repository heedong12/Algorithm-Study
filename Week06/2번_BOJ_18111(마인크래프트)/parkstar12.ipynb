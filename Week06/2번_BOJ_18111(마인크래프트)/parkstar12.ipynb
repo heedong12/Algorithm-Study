{
 "cells": [
  {
   "cell_type": "code",
   "execution_count": null,
   "metadata": {},
   "outputs": [
    {
     "name": "stdout",
     "output_type": "stream",
     "text": [
      "0 2\n"
     ]
    }
   ],
   "source": [
    "def solve(land, B):\n",
    "    min_height = min(land)\n",
    "    max_height = max(land)\n",
    "    min_time = float(\"inf\")\n",
    "    best_height = 0\n",
    "\n",
    "    for target in range(min_height, max_height + 1):  # 가능한 모든 높이 검사\n",
    "        time = 0\n",
    "        inventory = B\n",
    "        \n",
    "        for h, count in land.items():\n",
    "            if h < target:  # 블록을 쌓아야 하는 경우\n",
    "                needed = (target - h) * count\n",
    "                time += needed\n",
    "                inventory -= needed\n",
    "            elif h > target:  # 블록을 제거해야 하는 경우\n",
    "                removed = (h - target) * count\n",
    "                time += removed * 2\n",
    "                inventory += removed\n",
    "        \n",
    "        if inventory >= 0 and time <= min_time:  # 최적의 경우 갱신\n",
    "            min_time = time\n",
    "            best_height = target\n",
    "\n",
    "    return min_time, best_height\n",
    "\n",
    "# 입력 처리\n",
    "N, M, B = map(int, input().split())\n",
    "\n",
    "land = {}\n",
    "for _ in range(N):\n",
    "    numbers = map(int, input().split())\n",
    "    for num in numbers:\n",
    "        land[num] = land.get(num, 0) + 1  # 딕셔너리 업데이트\n",
    "\n",
    "# 결과 출력\n",
    "result = solve(land, B)\n",
    "print(result[0], result[1])\n",
    "#"
   ]
  },
  {
   "cell_type": "code",
   "execution_count": null,
   "metadata": {},
   "outputs": [],
   "source": []
  }
 ],
 "metadata": {
  "kernelspec": {
   "display_name": "Python 3",
   "language": "python",
   "name": "python3"
  },
  "language_info": {
   "codemirror_mode": {
    "name": "ipython",
    "version": 3
   },
   "file_extension": ".py",
   "mimetype": "text/x-python",
   "name": "python",
   "nbconvert_exporter": "python",
   "pygments_lexer": "ipython3",
   "version": "3.11.9"
  }
 },
 "nbformat": 4,
 "nbformat_minor": 2
}
