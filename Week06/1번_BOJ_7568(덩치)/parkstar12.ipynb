{
 "cells": [
  {
   "cell_type": "code",
   "execution_count": 5,
   "metadata": {},
   "outputs": [
    {
     "name": "stdout",
     "output_type": "stream",
     "text": [
      "2 2 1 2 5\n"
     ]
    }
   ],
   "source": [
    "N=int(input())\n",
    "result=[1]*N\n",
    "person=[]\n",
    "for i in range(N):\n",
    "  length,weigth=map(int,input().split())\n",
    "  person.append((length,weigth))\n",
    "  \n",
    "for a in range(N):\n",
    "  for b in range(N):\n",
    "    if a==b:\n",
    "      continue\n",
    "    if person[a][0]<person[b][0] and person[a][1]<person[b][1] :\n",
    "      result[a]+=1\n",
    "      \n",
    "print(*result)"
   ]
  }
 ],
 "metadata": {
  "kernelspec": {
   "display_name": "Python 3",
   "language": "python",
   "name": "python3"
  },
  "language_info": {
   "codemirror_mode": {
    "name": "ipython",
    "version": 3
   },
   "file_extension": ".py",
   "mimetype": "text/x-python",
   "name": "python",
   "nbconvert_exporter": "python",
   "pygments_lexer": "ipython3",
   "version": "3.11.9"
  }
 },
 "nbformat": 4,
 "nbformat_minor": 2
}
