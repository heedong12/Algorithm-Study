{
 "cells": [
  {
   "cell_type": "code",
   "execution_count": null,
   "metadata": {},
   "outputs": [],
   "source": [
    "N=int(input())\n",
    "result=[]\n",
    "person=[]\n",
    "for i in range(N):\n",
    "  length,weigth=map(int,input().split())\n",
    "  person[i].append((length,weigth))\n",
    "  \n",
    "for a in range(N):\n",
    "  for b in range(N):\n",
    "    if a==b:\n",
    "      continue\n",
    "    if person[a][0]>person[b][0] and person[a][1]>person[b][1] :\n",
    "      result[a]+=1"
   ]
  }
 ],
 "metadata": {
  "language_info": {
   "name": "python"
  }
 },
 "nbformat": 4,
 "nbformat_minor": 2
}
