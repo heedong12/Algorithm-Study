{
 "cells": [
  {
   "cell_type": "code",
   "execution_count": null,
   "metadata": {},
   "outputs": [],
   "source": [
    "N = int(input())\n",
    "people = []\n",
    "rank = [1] * N\n",
    "for r in range(N):\n",
    "    w , h = map(int,input().split())\n",
    "    if people:\n",
    "        for i in range(len(people)):\n",
    "            if w > people[i][0] and h > people[i][1]:\n",
    "                rank[i] += 1\n",
    "            elif w < people[i][0] and h < people[i][1]:\n",
    "                rank[r] += 1\n",
    "    people.append((w,h))\n",
    "print(*rank)\n",
    "                \n"
   ]
  }
 ],
 "metadata": {
  "language_info": {
   "name": "python"
  }
 },
 "nbformat": 4,
 "nbformat_minor": 2
}
