{
 "cells": [
  {
   "cell_type": "code",
   "execution_count": null,
   "metadata": {},
   "outputs": [],
   "source": [
    "N , M = map(int,input().split())\n",
    "\n",
    "arr = list(map(int,input().split()))\n",
    "result = 0\n",
    "for i in range(N):\n",
    "    hap = 0\n",
    "    for j in range(i,N):\n",
    "        if hap + arr[j] < M:\n",
    "            hap += arr[j]\n",
    "            continue\n",
    "        if hap + arr[j] == M:\n",
    "            result += 1\n",
    "            break\n",
    "        else:\n",
    "            break\n",
    "print(result)"
   ]
  }
 ],
 "metadata": {
  "language_info": {
   "name": "python"
  }
 },
 "nbformat": 4,
 "nbformat_minor": 2
}
