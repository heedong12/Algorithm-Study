{
 "cells": [
  {
   "cell_type": "code",
   "execution_count": 54,
   "metadata": {},
   "outputs": [
    {
     "name": "stdout",
     "output_type": "stream",
     "text": [
      "1\n"
     ]
    }
   ],
   "source": [
    "N, M = map(int, input().split())\n",
    "number = list(map(int, input().split()))\n",
    "\n",
    "start = 0\n",
    "end = 0\n",
    "sum_num = 0\n",
    "count = 0\n",
    "\n",
    "while end < N:\n",
    "    sum_num += number[end]  # 현재 end 값을 부분합에 추가\n",
    "    end += 1  # end 증가\n",
    "\n",
    "    while sum_num > M and start < end:  # 부분합이 M보다 크면 start 이동\n",
    "        sum_num -= number[start]\n",
    "        start += 1\n",
    "\n",
    "    if sum_num == M:\n",
    "        count += 1  # 정답 증가\n",
    "\n",
    "print(count)\n"
   ]
  }
 ],
 "metadata": {
  "kernelspec": {
   "display_name": "Python 3",
   "language": "python",
   "name": "python3"
  },
  "language_info": {
   "codemirror_mode": {
    "name": "ipython",
    "version": 3
   },
   "file_extension": ".py",
   "mimetype": "text/x-python",
   "name": "python",
   "nbconvert_exporter": "python",
   "pygments_lexer": "ipython3",
   "version": "3.11.9"
  }
 },
 "nbformat": 4,
 "nbformat_minor": 2
}
