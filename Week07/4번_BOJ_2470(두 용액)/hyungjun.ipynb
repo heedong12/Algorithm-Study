{
 "cells": [
  {
   "cell_type": "code",
   "execution_count": null,
   "metadata": {},
   "outputs": [],
   "source": [
    "N = int(input())\n",
    "arr = list(map(int,input().split()))\n",
    "solution = [0,0]\n",
    "\n",
    "arr.sort()\n",
    "left = 0\n",
    "right = N-1\n",
    "diff = 10000000000\n",
    "while left < right:\n",
    "    hap = arr[left] + arr[right]\n",
    "    if  hap == 0:\n",
    "        solution = [arr[left],arr[right]]\n",
    "        break\n",
    "    if abs(hap) < diff:\n",
    "        diff = abs(hap)\n",
    "        solution = [arr[left],arr[right]]\n",
    "    if hap < 0:\n",
    "        left+=1\n",
    "    else:\n",
    "        right -= 1\n",
    "print(*solution)"
   ]
  }
 ],
 "metadata": {
  "kernelspec": {
   "display_name": "Python 3",
   "language": "python",
   "name": "python3"
  },
  "language_info": {
   "codemirror_mode": {
    "name": "ipython",
    "version": 3
   },
   "file_extension": ".py",
   "mimetype": "text/x-python",
   "name": "python",
   "nbconvert_exporter": "python",
   "pygments_lexer": "ipython3",
   "version": "3.8.6"
  }
 },
 "nbformat": 4,
 "nbformat_minor": 2
}
