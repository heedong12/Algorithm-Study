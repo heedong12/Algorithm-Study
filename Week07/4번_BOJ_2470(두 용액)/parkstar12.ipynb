{
 "cells": [
  {
   "cell_type": "code",
   "execution_count": null,
   "metadata": {},
   "outputs": [
    {
     "ename": "KeyboardInterrupt",
     "evalue": "",
     "output_type": "error",
     "traceback": [
      "\u001b[31m---------------------------------------------------------------------------\u001b[39m",
      "\u001b[31mKeyboardInterrupt\u001b[39m                         Traceback (most recent call last)",
      "\u001b[36mCell\u001b[39m\u001b[36m \u001b[39m\u001b[32mIn[6]\u001b[39m\u001b[32m, line 20\u001b[39m\n\u001b[32m     17\u001b[39m mid_end= plus_end\n\u001b[32m     18\u001b[39m min_val = [\u001b[38;5;28mfloat\u001b[39m(\u001b[33m'\u001b[39m\u001b[33minf\u001b[39m\u001b[33m'\u001b[39m),number[\u001b[32m0\u001b[39m],number[\u001b[32m1\u001b[39m]]\n\u001b[32m---> \u001b[39m\u001b[32m20\u001b[39m \u001b[38;5;28;01mwhile\u001b[39;00m minus_start < plus_start :\n\u001b[32m     21\u001b[39m   sum_num = number[minus_start]+number[mid]\n\u001b[32m     22\u001b[39m   \u001b[38;5;28;01mif\u001b[39;00m sum_num < \u001b[32m0\u001b[39m:\n",
      "\u001b[31mKeyboardInterrupt\u001b[39m: "
     ]
    }
   ],
   "source": [
    "N = int(input())  # 숫자의 개수\n",
    "number = list(map(int, input().split()))  # 숫자 리스트 입력\n",
    "number.sort()  # 정렬\n",
    "\n",
    "start = 0  # 시작 인덱스\n",
    "end = N - 1  #  끝 인덱스\n",
    "\n",
    "min_val = [float('inf'), 0, 0]  # 최소값 저장 [차이, 수1, 수2]\n",
    "\n",
    "while start < end:\n",
    "    sum_num = number[start] + number[end]  # 두 수의 합\n",
    "    if abs(sum_num) < abs(min_val[0]):  # 합의 절댓값이 최소값보다 작으면 갱신\n",
    "        min_val = [sum_num, number[start], number[end]]\n",
    "\n",
    "    # 두 수의 합이 0보다 작으면 음수를 증가시켜 더 큰 값을 찾음\n",
    "    # 두 수의 합이 0보다 크면 양수를 감소시켜 더 작은 값을 찾음\n",
    "    if sum_num < 0:\n",
    "        start += 1\n",
    "    else:\n",
    "        end -= 1\n",
    "\n",
    "print(min_val[1], min_val[2])  # 가장 합이 0에 가까운 두 수 출력\n"
   ]
  }
 ],
 "metadata": {
  "kernelspec": {
   "display_name": "Python 3",
   "language": "python",
   "name": "python3"
  },
  "language_info": {
   "codemirror_mode": {
    "name": "ipython",
    "version": 3
   },
   "file_extension": ".py",
   "mimetype": "text/x-python",
   "name": "python",
   "nbconvert_exporter": "python",
   "pygments_lexer": "ipython3",
   "version": "3.11.9"
  }
 },
 "nbformat": 4,
 "nbformat_minor": 2
}
