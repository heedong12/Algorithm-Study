{
 "cells": [
  {
   "cell_type": "code",
   "execution_count": 58,
   "metadata": {},
   "outputs": [
    {
     "name": "stdout",
     "output_type": "stream",
     "text": [
      "2\n"
     ]
    }
   ],
   "source": [
    "N = int(input())  # 배열의 크기\n",
    "M = int(input())  # 두 수의 합이 M이 되어야 함\n",
    "number = list(map(int, input().split()))  # 배열 입력\n",
    "number.sort()  # 배열을 오름차순 정렬\n",
    "\n",
    "count = 0  # M이 되는 두 수의 쌍을 찾을 때마다 증가시킬 카운트 변수\n",
    "\n",
    "start = 0  # 첫 번째 포인터\n",
    "end = N - 1  # 두 번째 포인터\n",
    "\n",
    "while start < end:\n",
    "    sum_num = number[start] + number[end]  # 두 수의 합 계산\n",
    "    if sum_num == M:\n",
    "        count += 1  # 합이 M이면 카운트 증가\n",
    "        start += 1  # 왼쪽 포인터를 오른쪽으로 이동\n",
    "        end -= 1  # 오른쪽 포인터를 왼쪽으로 이동\n",
    "    elif sum_num < M:\n",
    "        start += 1  # 합이 M보다 작으면 왼쪽 포인터를 오른쪽으로 이동\n",
    "    else:\n",
    "        end -= 1  # 합이 M보다 크면 오른쪽 포인터를 왼쪽으로 이동\n",
    "\n",
    "print(count)  # 결과 출력\n"
   ]
  },
  {
   "cell_type": "code",
   "execution_count": null,
   "metadata": {},
   "outputs": [],
   "source": [
    "\n"
   ]
  }
 ],
 "metadata": {
  "kernelspec": {
   "display_name": "Python 3",
   "language": "python",
   "name": "python3"
  },
  "language_info": {
   "codemirror_mode": {
    "name": "ipython",
    "version": 3
   },
   "file_extension": ".py",
   "mimetype": "text/x-python",
   "name": "python",
   "nbconvert_exporter": "python",
   "pygments_lexer": "ipython3",
   "version": "3.11.9"
  }
 },
 "nbformat": 4,
 "nbformat_minor": 2
}
