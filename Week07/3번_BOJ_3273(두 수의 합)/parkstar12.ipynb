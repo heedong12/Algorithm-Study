{
 "cells": [
  {
   "cell_type": "code",
   "execution_count": 3,
   "metadata": {},
   "outputs": [
    {
     "name": "stdout",
     "output_type": "stream",
     "text": [
      "3\n"
     ]
    }
   ],
   "source": [
    "N=int(input())\n",
    "number=list(map(int,input().split()))\n",
    "number.sort()\n",
    "M=int(input())\n",
    "\n",
    "sum_num=0\n",
    "count=0\n",
    "\n",
    "start=0\n",
    "end=N-1\n",
    "while start < end:\n",
    "  sum_num=number[start]+number[end]\n",
    "  if sum_num > M:\n",
    "    end -= 1\n",
    "  elif sum_num < M :\n",
    "    start += 1\n",
    "  elif sum_num == M:\n",
    "    count += 1\n",
    "    start += 1\n",
    "print(count)"
   ]
  }
 ],
 "metadata": {
  "kernelspec": {
   "display_name": "Python 3",
   "language": "python",
   "name": "python3"
  },
  "language_info": {
   "codemirror_mode": {
    "name": "ipython",
    "version": 3
   },
   "file_extension": ".py",
   "mimetype": "text/x-python",
   "name": "python",
   "nbconvert_exporter": "python",
   "pygments_lexer": "ipython3",
   "version": "3.11.9"
  }
 },
 "nbformat": 4,
 "nbformat_minor": 2
}
