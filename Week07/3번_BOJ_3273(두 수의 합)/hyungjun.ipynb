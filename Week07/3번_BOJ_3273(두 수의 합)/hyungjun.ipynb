{
 "cells": [
  {
   "cell_type": "code",
   "execution_count": null,
   "metadata": {},
   "outputs": [],
   "source": [
    "N = int(input())\n",
    "arr = list(map(int,input().split()))\n",
    "M = int(input())\n",
    "arr.sort()\n",
    "result = 0\n",
    "left = 0\n",
    "right = N-1\n",
    "while left < right:\n",
    "    hap =arr[left] + arr[right]\n",
    "    if hap == M:\n",
    "        result += 1\n",
    "        left += 1\n",
    "    elif hap < M:\n",
    "        left += 1\n",
    "    else:\n",
    "        right -= 1\n",
    "print(result)"
   ]
  }
 ],
 "metadata": {
  "language_info": {
   "name": "python"
  }
 },
 "nbformat": 4,
 "nbformat_minor": 2
}
