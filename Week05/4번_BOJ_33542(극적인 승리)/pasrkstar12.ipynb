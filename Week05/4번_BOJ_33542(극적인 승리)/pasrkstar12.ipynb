{
 "cells": [
  {
   "cell_type": "code",
   "execution_count": null,
   "metadata": {},
   "outputs": [
    {
     "name": "stdout",
     "output_type": "stream",
     "text": [
      "3 2\n"
     ]
    }
   ],
   "source": [
    "import sys\n",
    "input = sys.stdin.readline\n",
    "\n",
    "A, B = map(int, input().split())\n",
    "left_idx, right_idx = {}, {}\n",
    "N = int(input())\n",
    "\n",
    "for i in range(1, N + 1): \n",
    "    L, R = map(int, input().split())\n",
    "    if L not in left_idx:\n",
    "        left_idx[L] = [] \n",
    "    if R not in right_idx:\n",
    "        right_idx[R] = []\n",
    "    left_idx[L].append(i) # 만약 같은 값을 가진 과녁이 있을경우 처리 {value : index1,index2}\n",
    "    right_idx[R].append(i)\n",
    "\n",
    "target_left, target_right = list(left_idx.keys()), list(right_idx.keys())  \n",
    "\n",
    "target_left.sort()\n",
    "target_right.sort(reverse = True) # 둘 다 내림차순,오름차순 하는것 보다 각각 내림차순, 오름차순하는게 더 빠름\n",
    "\n",
    "l, r = 0, 0  #과녁 인덱스 설정 \n",
    "score, ans   = float(\"inf\"), [-1, -1]\n",
    "l_len, r_len = len(target_left), len(target_right) \n",
    "\n",
    "while l < l_len and r < r_len:\n",
    "    s_dif = B + target_left[l] + target_right[r] # 점수 후보군 저장\n",
    "\n",
    "    if A < s_dif : # 점수 후보군이 A보다 클경우\n",
    "        if s_dif < score : # 점수 후보군이 score보다 작을경우\n",
    "            x, y = -1, -1\n",
    "            for i in left_idx[target_left[l]]:\n",
    "                for j in right_idx[target_right[r]]:\n",
    "                    if i != j: #인덱스가 같은경우 예외처리\n",
    "                        x, y = i, j\n",
    "                        break\n",
    "            if x > 0:\n",
    "                score = s_dif #최소값 갱신\n",
    "                ans = [x, y] #최소값 인덱스 저장\n",
    "        \n",
    "        if r < r_len - 1: #최소값을 찾기 위해 내림차순한 r의 인덱스를 증가\n",
    "            r += 1\n",
    "        else: # r값중에 제일 작은 수 도달하면 l값 증가 시켜서 최소값 찾음\n",
    "            l += 1\n",
    "            \n",
    "    else: # 점수 후보군이 A보다 작을 경우 \n",
    "        l += 1 # 점수 후보군 < A 일 경우 l 증가 \n",
    "\n",
    "for i in target_left[::-1]: # 왼손만 사용했을 경우가 양손을 사용해서 얻은 점수보다 최적값일 경우 처리\n",
    "    if A < B + i:\n",
    "        if B + i < score:\n",
    "            score = B + i\n",
    "            ans = [left_idx[i][0], -1]\n",
    "    else:\n",
    "        break\n",
    "\n",
    "for i in target_right: # 오른른손만 사용했을 경우가 양손을 사용해서 얻은 점수보다 최적값일 경우 처리\n",
    "    if A < B + i:\n",
    "        if B + i < score:\n",
    "            score = B + i\n",
    "            ans = [-1, right_idx[i][0]]\n",
    "    else:\n",
    "        break\n",
    "\n",
    "if A < B:\n",
    "    print(-1, -1)\n",
    "elif ans != [-1, -1]:\n",
    "    print(*ans)\n",
    "else:\n",
    "    print('No')"
   ]
  }
 ],
 "metadata": {
  "kernelspec": {
   "display_name": "Python 3",
   "language": "python",
   "name": "python3"
  },
  "language_info": {
   "codemirror_mode": {
    "name": "ipython",
    "version": 3
   },
   "file_extension": ".py",
   "mimetype": "text/x-python",
   "name": "python",
   "nbconvert_exporter": "python",
   "pygments_lexer": "ipython3",
   "version": "3.13.2"
  }
 },
 "nbformat": 4,
 "nbformat_minor": 2
}
