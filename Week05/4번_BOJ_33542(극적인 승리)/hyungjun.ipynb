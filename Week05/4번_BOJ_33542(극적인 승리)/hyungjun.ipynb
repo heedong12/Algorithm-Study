{
 "cells": [
  {
   "cell_type": "code",
   "execution_count": null,
   "metadata": {},
   "outputs": [
    {
     "name": "stdout",
     "output_type": "stream",
     "text": [
      "2 1\n"
     ]
    }
   ],
   "source": [
    "import sys\n",
    "\n",
    "input = sys.stdin.readline\n",
    "\n",
    "A, B = map(int, input().split())  # A는 왼손 과녁, B는 오른손 과녁\n",
    "N = int(input())  # 과녁의 개수\n",
    "targets = []\n",
    "\n",
    "# 과녁 정보 입력 받기\n",
    "for i in range(N):\n",
    "    L, R = map(int, input().split())\n",
    "    targets.append((L, R, i + 1))\n",
    "\n",
    "# A가 B보다 작으면 종료\n",
    "if A < B:\n",
    "    print(\"-1 -1\")\n",
    "    exit(0)\n",
    "\n",
    "limit = A - B  # limit은 A - B로 정의\n",
    "\n",
    "# L, R을 각각 정렬\n",
    "L_sorted = sorted(targets, key=lambda x: x[0])  # L 기준 오름차순 정렬\n",
    "R_sorted = sorted(targets, key=lambda x: x[1])  # R 기준 오름차순 정렬\n",
    "if (L_sorted[N-1][0] + R_sorted[N-1][1]) <= limit:\n",
    "    print(\"No\")\n",
    "    exit(0)\n",
    "min_score = float('inf')\n",
    "result = [-1, -1]\n",
    "\n",
    "r_idx = N - 1  # R의 끝에서부터 탐색 (큰 값부터 보기)\n",
    "\n",
    "# **1. 왼손+오른손 조합 찾기 (같은 과녁 사용 금지)**\n",
    "for l_value, _, l_idx in L_sorted:\n",
    "    while r_idx >= 0 and R_sorted[r_idx][1] + l_value > limit:\n",
    "        _, _, r_idx_in_R = R_sorted[r_idx]\n",
    "\n",
    "        # **같은 과녁이면 스킵**\n",
    "        if l_idx == r_idx_in_R:\n",
    "            r_idx -= 1\n",
    "            continue\n",
    "\n",
    "        total = l_value + R_sorted[r_idx][1]\n",
    "        if total > limit and total < min_score:\n",
    "            min_score = total\n",
    "            result = [l_idx, r_idx_in_R]\n",
    "\n",
    "        r_idx -= 1\n",
    "\n",
    "# **2. 오른손만 던지는 경우 (`L=0`) 고려**\n",
    "for r_value, r_idx_in_R in [(r[1], r[2]) for r in R_sorted]:\n",
    "    if r_value > limit:\n",
    "        if r_value < min_score:\n",
    "            min_score = r_value\n",
    "            result = [-1, r_idx_in_R]  # 왼손 안 던짐, 오른손만 던짐\n",
    "\n",
    "# **3. 왼손만 던지는 경우 (`R=0`) 고려**\n",
    "for l_value, l_idx in [(l[0], l[2]) for l in L_sorted]:\n",
    "    if l_value > limit:\n",
    "        if l_value < min_score:\n",
    "            min_score = l_value\n",
    "            result = [l_idx, -1]  # 오른손 안 던짐, 왼손만 던짐\n",
    "\n",
    "# **결과 출력**\n",
    "print(*result)\n"
   ]
  }
 ],
 "metadata": {
  "kernelspec": {
   "display_name": "Python 3",
   "language": "python",
   "name": "python3"
  },
  "language_info": {
   "codemirror_mode": {
    "name": "ipython",
    "version": 3
   },
   "file_extension": ".py",
   "mimetype": "text/x-python",
   "name": "python",
   "nbconvert_exporter": "python",
   "pygments_lexer": "ipython3",
   "version": "3.8.6"
  }
 },
 "nbformat": 4,
 "nbformat_minor": 2
}
