{
 "cells": [
  {
   "cell_type": "code",
   "execution_count": null,
   "metadata": {},
   "outputs": [
    {
     "name": "stdout",
     "output_type": "stream",
     "text": [
      "[10, 10, 10]\n",
      "0.1\n"
     ]
    }
   ],
   "source": [
    "N , L , W, H = map(int,input().split())\n",
    "\n",
    "condition = [L, W, H]\n",
    "\n",
    "def binary(condtion,N):\n",
    "    start = 0\n",
    "    end = min(condition)\n",
    "    result = 0\n",
    "    for _ in range(100):\n",
    "        mid = (start + end) / 2\n",
    "        if (condition[0] // mid) * (condtion[1]//mid) * (condition[2] // mid) >= N:\n",
    "            result = mid\n",
    "            start = mid\n",
    "        else:\n",
    "            end = mid\n",
    "    return result\n",
    "print(binary(condition, N))\n",
    "        \n",
    "    \n",
    "        \n",
    "\n"
   ]
  },
  {
   "cell_type": "code",
   "execution_count": null,
   "metadata": {},
   "outputs": [],
   "source": [
    "N , L , W, H = map(int,input().split())\n"
   ]
  }
 ],
 "metadata": {
  "kernelspec": {
   "display_name": "Python 3",
   "language": "python",
   "name": "python3"
  },
  "language_info": {
   "codemirror_mode": {
    "name": "ipython",
    "version": 3
   },
   "file_extension": ".py",
   "mimetype": "text/x-python",
   "name": "python",
   "nbconvert_exporter": "python",
   "pygments_lexer": "ipython3",
   "version": "3.13.1"
  }
 },
 "nbformat": 4,
 "nbformat_minor": 2
}
