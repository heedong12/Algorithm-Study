{
 "cells": [
  {
   "cell_type": "code",
   "execution_count": null,
   "metadata": {},
   "outputs": [],
   "source": [
    "def find_max_A(N, L, M, H):\n",
    "    low, high = 0.0, min(L, M, H)\n",
    "    \n",
    "    for _ in range(100):\n",
    "        mid = (low + high) / 2 \n",
    "        if ( (L // mid) * (M // mid) * (H // mid) >= N ):   #들어갈 수 있는 박스 수가 N보다 작으면 \n",
    "            low = mid\n",
    "        else:\n",
    "            high = mid\n",
    "    \n",
    "    return high  # A의 최댓값 반환\n",
    "\n",
    "\n",
    "\n",
    "N, L, M, H = map(int, input().split())\n",
    "\n",
    "print(round(find_max_A(N, L, M, H,),10))"
   ]
  },
  {
   "cell_type": "code",
   "execution_count": null,
   "metadata": {},
   "outputs": [
    {
     "name": "stdout",
     "output_type": "stream",
     "text": [
      "1.0\n"
     ]
    }
   ],
   "source": [
    "######### 시간초과 코드\n",
    "\n",
    "\n",
    "def find_max_A(N, L, M, H):\n",
    "\n",
    "    low, high = 0.0, min(L, M, H,(L*M*H)//N)\n",
    "    \n",
    "\n",
    "    # 오차 1e-9까지\n",
    "    while high - low > 1e-9:\n",
    "        mid = (low + high) / 2 \n",
    "        if ((L//mid) * (M//mid) * (H//mid) < N):  #들어갈 수 있는 박스 수가 N보다 작으면 \n",
    "            high = mid\n",
    "        else:\n",
    "            low = mid\n",
    "    \n",
    "    return high  # A의 최댓값 반환\n",
    "\n",
    "\n",
    "N, L, M, H = map(int, input().split())\n",
    "\n",
    "print(f\"{find_max_A(N, L, M, H)}\")"
   ]
  }
 ],
 "metadata": {
  "kernelspec": {
   "display_name": "Python 3",
   "language": "python",
   "name": "python3"
  },
  "language_info": {
   "codemirror_mode": {
    "name": "ipython",
    "version": 3
   },
   "file_extension": ".py",
   "mimetype": "text/x-python",
   "name": "python",
   "nbconvert_exporter": "python",
   "pygments_lexer": "ipython3",
   "version": "3.11.9"
  }
 },
 "nbformat": 4,
 "nbformat_minor": 2
}
