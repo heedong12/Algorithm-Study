{
 "cells": [
  {
   "cell_type": "code",
   "execution_count": null,
   "metadata": {},
   "outputs": [],
   "source": [
    "def search(N_num,num):\n",
    "  start=0\n",
    "  end=len(N_num)\n",
    "  while start<end:\n",
    "    mid= (start+ end)//2\n",
    "    if N_num[mid]>num :\n",
    "      end = mid\n",
    "    else : \n",
    "      start = mid\n",
    "    return start\n",
    "\n",
    "\n",
    "\n",
    "T=int(input())\n",
    "for _ in range(T):\n",
    "  N,M=map(int,input().split())\n",
    "\n",
    "  N_num = list(map(int, input().split())) \n",
    "  M_num = list(map(int, input().split()))\n",
    "\n"
   ]
  }
 ],
 "metadata": {
  "language_info": {
   "name": "python"
  },
  "orig_nbformat": 4
 },
 "nbformat": 4,
 "nbformat_minor": 2
}
