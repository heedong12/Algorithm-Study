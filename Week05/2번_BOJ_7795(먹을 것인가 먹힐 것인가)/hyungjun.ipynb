{
 "cells": [
  {
   "cell_type": "code",
   "execution_count": null,
   "metadata": {},
   "outputs": [],
   "source": [
    "T = int(input())\n",
    "\n",
    "def binary(array, target):\n",
    "    start =0\n",
    "    end = len(array)\n",
    "    while(start < end) :\n",
    "        mid = (start + end) // 2\n",
    "        if array[mid] > target:\n",
    "            end = mid\n",
    "        else:\n",
    "            start = mid + 1\n",
    "    return start\n",
    "for _ in range(T):\n",
    "    N,M = map(int,input().split())\n",
    "    a= list(map(int,input().split()))\n",
    "    b= list(map(int,input().split()))\n",
    "    result = 0\n",
    "    a.sort()\n",
    "    b.sort()\n",
    "    for i in range(M):\n",
    "        result += N - binary(a,b[i])\n",
    "    print(result)"
   ]
  },
  {
   "cell_type": "code",
   "execution_count": null,
   "metadata": {},
   "outputs": [],
   "source": [
    "import sys\n",
    "\n",
    "T = int(input())\n",
    "\n",
    "for _ in range(T):\n",
    "    N,M = map(int,sys.stdin.readline().split())\n",
    "    a= list(map(int,sys.stdin.readline().split()))\n",
    "    b= list(map(int,sys.stdin.readline().split()))\n",
    "    result = 0\n",
    "    a.sort()\n",
    "    b.sort()\n",
    "    for i in range(M):\n",
    "        for j in range(N):\n",
    "            if a[j] > b[i]:\n",
    "                result += (N-j)\n",
    "                break\n",
    "    print(result)"
   ]
  }
 ],
 "metadata": {
  "language_info": {
   "name": "python"
  }
 },
 "nbformat": 4,
 "nbformat_minor": 2
}
