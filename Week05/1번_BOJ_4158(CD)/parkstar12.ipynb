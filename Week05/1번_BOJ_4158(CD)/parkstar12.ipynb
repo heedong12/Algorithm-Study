{
 "cells": [
  {
   "cell_type": "code",
   "execution_count": null,
   "metadata": {},
   "outputs": [],
   "source": [
    "import sys\n",
    "\n",
    "while True:\n",
    "  N,M=map(int,sys.stdin.readline().split())\n",
    "  if N == 0 and M == 0:\n",
    "    break\n",
    "  result=0\n",
    "\n",
    "  N_CD=set(sys.stdin.readline().strip() for _ in range(N)) \n",
    "\n",
    "  result = sum(1 for _ in range(M) if sys.stdin.readline().strip() in N_CD)  \n",
    "\n",
    "print(result)"
   ]
  },
  {
   "cell_type": "code",
   "execution_count": null,
   "metadata": {},
   "outputs": [],
   "source": []
  }
 ],
 "metadata": {
  "kernelspec": {
   "display_name": "Python 3",
   "language": "python",
   "name": "python3"
  },
  "language_info": {
   "codemirror_mode": {
    "name": "ipython",
    "version": 3
   },
   "file_extension": ".py",
   "mimetype": "text/x-python",
   "name": "python",
   "nbconvert_exporter": "python",
   "pygments_lexer": "ipython3",
   "version": "3.11.9"
  }
 },
 "nbformat": 4,
 "nbformat_minor": 2
}
