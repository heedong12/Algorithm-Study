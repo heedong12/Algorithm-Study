{
 "cells": [
  {
   "cell_type": "code",
   "execution_count": null,
   "metadata": {},
   "outputs": [],
   "source": [
    "import sys\n",
    "\n",
    "while(True):\n",
    "    N , M = map(int,input().split())\n",
    "    if N == 0 and M == 0 :\n",
    "        break\n",
    "    dic ={}\n",
    "    result = 0\n",
    "    for _ in range(N):\n",
    "        dic[sys.stdin.readline()] = 1\n",
    "    for _ in range(M):\n",
    "        if dic.get(sys.stdin.readline()):\n",
    "            result += 1\n",
    "    print(result)"
   ]
  }
 ],
 "metadata": {
  "language_info": {
   "name": "python"
  }
 },
 "nbformat": 4,
 "nbformat_minor": 2
}
