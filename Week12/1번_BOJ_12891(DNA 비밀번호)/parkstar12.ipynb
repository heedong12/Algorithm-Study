{
 "cells": [
  {
   "cell_type": "code",
   "execution_count": null,
   "id": "ce3e0f87",
   "metadata": {},
   "outputs": [],
   "source": [
    "from collections import deque\n",
    "\n",
    "S, P = map(int, input().split())  # 전체 문자열 길이 S, 부분 문자열 길이 P\n",
    "DNA = input()  # DNA 문자열\n",
    "score = list(map(int, input().split()))  # A, C, G, T의 최소 개수\n",
    "\n",
    "current_count = [0, 0, 0, 0]  # 현재 윈도우 안의 A, C, G, T 개수\n",
    "result = 0\n",
    "\n",
    "# 문자 -> 인덱스 매핑\n",
    "def char_to_index(c):\n",
    "    if c == 'A':\n",
    "        return 0\n",
    "    elif c == 'C':\n",
    "        return 1\n",
    "    elif c == 'G':\n",
    "        return 2\n",
    "    elif c == 'T':\n",
    "        return 3\n",
    "\n",
    "# 초기 윈도우 설정\n",
    "for i in range(P):\n",
    "    idx = char_to_index(DNA[i])\n",
    "    current_count[idx] += 1\n",
    "\n",
    "# 조건 만족하면 결과 +1\n",
    "if all(current_count[i] >= score[i] for i in range(4)):\n",
    "    result += 1\n",
    "\n",
    "# 슬라이딩 윈도우 시작\n",
    "for i in range(P, S):\n",
    "    # 왼쪽 문자 제거\n",
    "    left_idx = char_to_index(DNA[i - P])\n",
    "    current_count[left_idx] -= 1\n",
    "\n",
    "    # 오른쪽 문자 추가\n",
    "    right_idx = char_to_index(DNA[i])\n",
    "    current_count[right_idx] += 1\n",
    "\n",
    "    # 조건 만족 시 결과 증가\n",
    "    if all(current_count[j] >= score[j] for j in range(4)):\n",
    "        result += 1\n",
    "\n",
    "print(result)"
   ]
  }
 ],
 "metadata": {
  "kernelspec": {
   "display_name": "Python 3",
   "language": "python",
   "name": "python3"
  },
  "language_info": {
   "name": "python",
   "version": "3.11.9",
   "mimetype": "text/x-python",
   "codemirror_mode": {
    "name": "ipython",
    "version": 3
   },
   "pygments_lexer": "ipython3",
   "nbconvert_exporter": "python",
   "file_extension": ".py"
  }
 },
 "nbformat": 4,
 "nbformat_minor": 5
}
