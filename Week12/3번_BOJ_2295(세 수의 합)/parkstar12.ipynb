{
 "cells": [
  {
   "cell_type": "code",
   "execution_count": 13,
   "id": "ff628eae",
   "metadata": {},
   "outputs": [
    {
     "name": "stdout",
     "output_type": "stream",
     "text": [
      "18\n"
     ]
    }
   ],
   "source": [
    "T=int(input())\n",
    "number=[0]*T\n",
    "for i in range(T):\n",
    "  number[i]=int(input())\n",
    "number.sort()\n",
    "plus=set()\n",
    "\n",
    "for x in number:\n",
    "  for y in number:\n",
    "    plus.add(x+y)\n",
    "\n",
    "result=0\n",
    "for a in range(T-1,-1,-1,):\n",
    "  if result != 0:\n",
    "    break\n",
    "  for b in range(a-1,-1,-1):\n",
    "    if (number[a]-number[b]) in plus:\n",
    "      result=number[a]\n",
    "      break\n",
    "\n",
    "print(result)"
   ]
  },
  {
   "cell_type": "code",
   "execution_count": null,
   "id": "9960cbbd",
   "metadata": {},
   "outputs": [],
   "source": []
  }
 ],
 "metadata": {
  "kernelspec": {
   "display_name": "Python 3",
   "language": "python",
   "name": "python3"
  },
  "language_info": {
   "codemirror_mode": {
    "name": "ipython",
    "version": 3
   },
   "file_extension": ".py",
   "mimetype": "text/x-python",
   "name": "python",
   "nbconvert_exporter": "python",
   "pygments_lexer": "ipython3",
   "version": "3.13.2"
  }
 },
 "nbformat": 4,
 "nbformat_minor": 5
}
