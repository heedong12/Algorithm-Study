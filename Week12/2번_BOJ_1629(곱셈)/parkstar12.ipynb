{
 "cells": [
  {
   "cell_type": "code",
   "execution_count": null,
   "id": "bdd2ee71",
   "metadata": {},
   "outputs": [
    {
     "name": "stdout",
     "output_type": "stream",
     "text": [
      "4\n"
     ]
    }
   ],
   "source": [
    "A,B,C=map(int,input().split()) \n",
    "# 2 ^ 8\n",
    "# 4 ^ 4\n",
    "# 8 ^ 2\n",
    "\n",
    "# 3 ^ 5 = 243\n",
    "# 9 ^ 2 * 3\n",
    "\n",
    "\n",
    "result=1\n",
    "while B:\n",
    "\n",
    "  if B % 2 ==1:\n",
    "    result *= A\n",
    "  A = (A * A) % C\n",
    "  B = B // 2\n",
    "\n",
    "print(result%C)"
   ]
  },
  {
   "cell_type": "code",
   "execution_count": null,
   "id": "297e8998",
   "metadata": {},
   "outputs": [],
   "source": []
  }
 ],
 "metadata": {
  "kernelspec": {
   "display_name": "Python 3",
   "language": "python",
   "name": "python3"
  },
  "language_info": {
   "codemirror_mode": {
    "name": "ipython",
    "version": 3
   },
   "file_extension": ".py",
   "mimetype": "text/x-python",
   "name": "python",
   "nbconvert_exporter": "python",
   "pygments_lexer": "ipython3",
   "version": "3.13.2"
  }
 },
 "nbformat": 4,
 "nbformat_minor": 5
}
