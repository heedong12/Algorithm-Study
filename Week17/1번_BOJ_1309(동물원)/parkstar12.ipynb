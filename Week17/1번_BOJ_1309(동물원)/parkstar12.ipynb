{
 "cells": [
  {
   "cell_type": "code",
   "execution_count": null,
   "id": "4733f592",
   "metadata": {},
   "outputs": [],
   "source": [
    "N = int(input())\n",
    "dp = [[0] * 3 for _ in range(N)]\n",
    "\n",
    "dp[0][0] = 1\n",
    "dp[0][1] = 1\n",
    "dp[0][2] = 1\n",
    "\n",
    "for i in range(1, N):\n",
    "    dp[i][0] = (dp[i-1][0] + dp[i-1][1] + dp[i-1][2]) % 9901\n",
    "    dp[i][1] = (dp[i-1][0] + dp[i-1][2]) % 9901\n",
    "    dp[i][2] = (dp[i-1][0] + dp[i-1][1]) % 9901\n",
    "\n",
    "result = sum(dp[N-1]) % 9901\n",
    "print(result)"
   ]
  }
 ],
 "metadata": {
  "language_info": {
   "name": "python"
  }
 },
 "nbformat": 4,
 "nbformat_minor": 5
}
