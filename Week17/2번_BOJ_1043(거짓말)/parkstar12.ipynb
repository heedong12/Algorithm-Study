{
 "cells": [
  {
   "cell_type": "code",
   "execution_count": null,
   "id": "c548eebe",
   "metadata": {},
   "outputs": [
    {
     "name": "stdout",
     "output_type": "stream",
     "text": [
      "{1: 0, 2: 0, 3: 0, 4: 0}\n"
     ]
    }
   ],
   "source": [
    "def find(x):\n",
    "    if parent[x] != x:\n",
    "        parent[x] = find(parent[x])\n",
    "    return parent[x]\n",
    "\n",
    "def union(x, y):\n",
    "    x, y = find(x), find(y)\n",
    "    if x != y:\n",
    "        parent[y] = x\n",
    "\n",
    "N, M = map(int, input().split())\n",
    "true = list(map(int, input().split()))\n",
    "true_knowers = true[1:]  # 진실을 아는 사람들\n",
    "parent = [i for i in range(N+1)]\n",
    "\n",
    "parties = []\n",
    "\n",
    "# 각 파티 입력 받으며 Union\n",
    "for _ in range(M):\n",
    "    party = list(map(int, input().split()))\n",
    "    people = party[1:]\n",
    "    for i in range(len(people)-1):\n",
    "        union(people[i], people[i+1])\n",
    "    parties.append(people)\n",
    "\n",
    "# 진실을 아는 사람의 대표 그룹을 저장\n",
    "true_roots = set(find(person) for person in true_knowers)\n",
    "\n",
    "# 진실을 모른다고 말할 수 있는 파티 수 세기\n",
    "result = 0\n",
    "for party in parties:\n",
    "    if not any(find(p) in true_roots for p in party):\n",
    "        result += 1\n",
    "\n",
    "print(result)"
   ]
  }
 ],
 "metadata": {
  "kernelspec": {
   "display_name": "Python 3",
   "language": "python",
   "name": "python3"
  },
  "language_info": {
   "codemirror_mode": {
    "name": "ipython",
    "version": 3
   },
   "file_extension": ".py",
   "mimetype": "text/x-python",
   "name": "python",
   "nbconvert_exporter": "python",
   "pygments_lexer": "ipython3",
   "version": "3.13.2"
  }
 },
 "nbformat": 4,
 "nbformat_minor": 5
}
