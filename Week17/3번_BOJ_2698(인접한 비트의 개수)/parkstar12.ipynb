{
 "cells": [
  {
   "cell_type": "code",
   "execution_count": null,
   "id": "3d686167",
   "metadata": {},
   "outputs": [],
   "source": [
    "MAX = 101\n",
    "dp = [[[0 for _ in range(2)] for _ in range(MAX)] for _ in range(MAX)]\n",
    "\n",
    "# 초기값 n,k.0or1\n",
    "dp[1][0][0] = 1\n",
    "dp[1][0][1] = 1\n",
    "\n",
    "# DP 테이블 채우기\n",
    "for n in range(2, MAX):\n",
    "    for k in range(n):  # 인접한 1은 최대 n-1개\n",
    "        dp[n][k][0] = dp[n-1][k][0] + dp[n-1][k][1]\n",
    "        dp[n][k][1] = dp[n-1][k][0]\n",
    "        if k > 0:\n",
    "            dp[n][k][1] += dp[n-1][k-1][1]\n",
    "\n",
    "# 테스트 케이스 처리\n",
    "T = int(input())\n",
    "for _ in range(T):\n",
    "    n, k = map(int, input().split())\n",
    "    print(dp[n][k][0] + dp[n][k][1])\n"
   ]
  }
 ],
 "metadata": {
  "language_info": {
   "name": "python"
  }
 },
 "nbformat": 4,
 "nbformat_minor": 5
}
