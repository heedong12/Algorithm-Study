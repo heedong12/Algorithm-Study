{
 "cells": [
  {
   "cell_type": "code",
   "execution_count": null,
   "metadata": {},
   "outputs": [],
   "source": [
    "#백준 2225번\n",
    "n,k =map(int,input().split())\n",
    "number=[[0]*(k+1) for _ in range(n+1)]\n",
    "\n",
    "for i in range(k+1):\n",
    "  number[0][i]=1\n",
    "\n",
    "for a in range(1,n+1):\n",
    "  for b in range(1,k+1):\n",
    "    number[a][b]=number[a-1][b]+number[a][b-1]\n",
    "\n",
    "result=number[n][k]%1000000000\n",
    "print(result)\n",
    "\n",
    "    \n"
   ]
  }
 ],
 "metadata": {
  "language_info": {
   "name": "python"
  }
 },
 "nbformat": 4,
 "nbformat_minor": 2
}
