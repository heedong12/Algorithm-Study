{
 "cells": [
  {
   "cell_type": "code",
   "execution_count": null,
   "metadata": {},
   "outputs": [],
   "source": [
    "n , k = map(int,input().split())\n",
    "\n",
    "dp = [[0 for _ in range(k+1)] for _ in range(n+1)]\n",
    "for i in range(1,k+1):\n",
    "    dp[1][i] = i\n",
    "for i in range(1,n+1):\n",
    "    dp[i][1] = 1\n",
    "\n",
    "for i in range(2,n+1):\n",
    "    for j in range(2,k+1):\n",
    "        dp[i][j] = dp[i-1][j] + dp[i][j-1]\n",
    "\n",
    "print(dp[n][k] % 1000000000)"
   ]
  }
 ],
 "metadata": {
  "language_info": {
   "name": "python"
  }
 },
 "nbformat": 4,
 "nbformat_minor": 2
}
