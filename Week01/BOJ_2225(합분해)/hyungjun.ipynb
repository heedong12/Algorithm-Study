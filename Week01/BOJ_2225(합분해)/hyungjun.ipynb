{
 "cells": [
  {
   "cell_type": "code",
   "execution_count": null,
   "metadata": {},
   "outputs": [],
   "source": [
    "n = int(input())\n",
    "dp = [0 for _ in range(n+1)]\n",
    "for i in range(n+1):\n",
    "    if i > 1:\n",
    "        dp[i] = dp[i-1] + dp[i-2]\n",
    "    else:\n",
    "        dp[i] = i\n",
    "print(dp[n])"
   ]
  }
 ],
 "metadata": {
  "language_info": {
   "name": "python"
  }
 },
 "nbformat": 4,
 "nbformat_minor": 2
}
