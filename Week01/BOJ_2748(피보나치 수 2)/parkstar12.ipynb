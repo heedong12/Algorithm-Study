{
 "cells": [
  {
   "cell_type": "code",
   "execution_count": null,
   "metadata": {},
   "outputs": [],
   "source": [
    "#백준 2748\n",
    "n=int(input())\n",
    "number=[0]*(n+1)\n",
    "number[0]=0\n",
    "number[1]=1\n",
    "for i in range(2,n+1):\n",
    "  number[i]=number[i-1]+number[i-2]\n",
    "\n",
    "print(number[n])"
   ]
  }
 ],
 "metadata": {
  "language_info": {
   "name": "python"
  }
 },
 "nbformat": 4,
 "nbformat_minor": 2
}
