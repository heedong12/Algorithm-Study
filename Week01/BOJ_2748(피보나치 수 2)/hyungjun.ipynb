{
 "cells": [
  {
   "cell_type": "code",
   "execution_count": null,
   "metadata": {},
   "outputs": [],
   "source": [
    "T = int(input())\n",
    "for _ in range(T):\n",
    "    n = int(input())\n",
    "    \n",
    "    dp = [0 for _ in range(n+1)]\n",
    "    dp[0] = 1\n",
    "    dp[1]= 1\n",
    "    if n>1:\n",
    "        dp[2] = 2\n",
    "    for i in range(3,n+1):\n",
    "        dp[i] = dp[i-1]+dp[i-2]+dp[i-3]\n",
    "\n",
    "    print(dp[n]) "
   ]
  }
 ],
 "metadata": {
  "language_info": {
   "name": "python"
  }
 },
 "nbformat": 4,
 "nbformat_minor": 2
}
