{
 "cells": [
  {
   "cell_type": "code",
   "execution_count": null,
   "metadata": {},
   "outputs": [],
   "source": [
    "#백준 9095\n",
    "T=int(input())\n",
    "for i in range(T):\n",
    "  n=int(input())\n",
    "  number=[0]*(n+1)\n",
    "  for i in range(1,n+1):\n",
    "    if i==1:\n",
    "      number[i]=1\n",
    "    elif i==2:\n",
    "      number[i]=2\n",
    "    elif i==3:\n",
    "      number[i]=4\n",
    "    else :\n",
    "        number[i]=number[i-1]+number[i-2]+number[i-3]\n",
    "  print(number[n])"
   ]
  }
 ],
 "metadata": {
  "language_info": {
   "name": "python"
  }
 },
 "nbformat": 4,
 "nbformat_minor": 2
}
