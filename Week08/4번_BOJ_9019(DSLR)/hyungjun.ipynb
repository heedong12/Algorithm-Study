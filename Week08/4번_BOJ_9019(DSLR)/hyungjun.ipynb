{
 "cells": [
  {
   "cell_type": "code",
   "execution_count": null,
   "id": "initial_id",
   "metadata": {
    "collapsed": true
   },
   "outputs": [],
   "source": [
    "from collections import deque\n",
    "#D S L R 정의\n",
    "def D(n):\n",
    "    return n * 2 % 10000\n",
    "def S(n):\n",
    "    return (n+9999) %10000\n",
    "def L(n):\n",
    "    return (n*10 + n//1000) % 10000\n",
    "def R(n):\n",
    "    return n//10 + (n%10)*1000\n",
    "\n",
    "def solve(b):\n",
    "    while queue:     #BFS\n",
    "        cur , order = queue.popleft()\n",
    "        if cur == b:\n",
    "            return order\n",
    "        for char , func in [(\"D\",D), (\"S\",S), (\"L\",L), (\"R\",R)]:  #리스트를 순회하면서 DSLR 한번씩 조회\n",
    "            temp = func(cur)\n",
    "            if visited[temp] == False:\n",
    "                visited[temp] = True\n",
    "                queue.append((temp, order + char))\n",
    "\n",
    "T = int(input())\n",
    "for _ in range(T):\n",
    "    a , b = map(int, input().split())\n",
    "    queue = deque([(a,\"\")]) #큐 초기화\n",
    "    visited = [False] * 10001\n",
    "    visited[a] = True\n",
    "    print(solve(b))\n"
   ]
  }
 ],
 "metadata": {
  "kernelspec": {
   "display_name": "Python 3",
   "language": "python",
   "name": "python3"
  },
  "language_info": {
   "codemirror_mode": {
    "name": "ipython",
    "version": 2
   },
   "file_extension": ".py",
   "mimetype": "text/x-python",
   "name": "python",
   "nbconvert_exporter": "python",
   "pygments_lexer": "ipython2",
   "version": "2.7.6"
  }
 },
 "nbformat": 4,
 "nbformat_minor": 5
}
