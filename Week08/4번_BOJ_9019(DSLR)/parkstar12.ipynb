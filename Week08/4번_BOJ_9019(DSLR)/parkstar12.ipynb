{
 "cells": [
  {
   "cell_type": "code",
   "execution_count": null,
   "metadata": {},
   "outputs": [
    {
     "name": "stdout",
     "output_type": "stream",
     "text": [
      "성공\n",
      "['L', 'S', 'S', 'D']\n"
     ]
    }
   ],
   "source": [
    "from collections import deque\n",
    "\n",
    "def solve(A,B):\n",
    "  stack = deque([(L,A,[]), (R,A,[]), (D,A,[]), (S,A,[])])\n",
    "  B_str=str(B)\n",
    "  visited = set()\n",
    "  \n",
    "  while stack:\n",
    "    cal,A_num,result = stack.popleft()\n",
    "    \n",
    "    if cal in (L, R):\n",
    "        A_str = str(A_num).zfill(len(B_str))  # 0 채우기\n",
    "        A_num = cal(A_str)  # L(A_str) 또는 R(A_str) 실행\n",
    "    else:\n",
    "        A_num = cal(A_num)  # D(A) 또는 S(A) 실행\n",
    "        \n",
    "    result.append(cal.__name__)\n",
    "    if A_num==B:\n",
    "      return result\n",
    "    \n",
    "    if A_num in visited:\n",
    "      continue\n",
    "    visited.add(A_num)\n",
    "    stack.append((L,A_num,result[:]))\n",
    "    stack.append((R,A_num,result[:]))\n",
    "    stack.append((D,A_num,result[:]))\n",
    "    stack.append((S,A_num,result[:]))\n",
    "      \n",
    "def L(A):\n",
    "  A = deque(A)\n",
    "  A.append(A.popleft())  # 맨 앞 값을 마지막으로 이동\n",
    "  return int(''.join(A))\n",
    "\n",
    "def R(A):\n",
    "  A = deque(A)\n",
    "  A.appendleft(A.pop())  # 마지막 값을 맨 앞으로 이동\n",
    "  return int(''.join(A))\n",
    "\n",
    "def D(A):\n",
    "  A *= 2\n",
    "  if A > 9999:\n",
    "    A = A%10000\n",
    "  return A\n",
    "\n",
    "def S(A):\n",
    "  A -= 1\n",
    "  if A == 0:\n",
    "    A=9999\n",
    "  return A\n",
    "    \n",
    "N=int(input())\n",
    "for _ in range(N):\n",
    "  A,B=map(int,input().split())\n",
    "  result=solve(A,B)\n",
    " # 성공적인 연산 결과가 있으면 출력\n",
    "  print(*result)  # 연산 순서대로 출력"
   ]
  }
 ],
 "metadata": {
  "kernelspec": {
   "display_name": "Python 3",
   "language": "python",
   "name": "python3"
  },
  "language_info": {
   "codemirror_mode": {
    "name": "ipython",
    "version": 3
   },
   "file_extension": ".py",
   "mimetype": "text/x-python",
   "name": "python",
   "nbconvert_exporter": "python",
   "pygments_lexer": "ipython3",
   "version": "3.11.9"
  }
 },
 "nbformat": 4,
 "nbformat_minor": 2
}
