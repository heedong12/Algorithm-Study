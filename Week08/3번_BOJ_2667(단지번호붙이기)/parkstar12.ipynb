{
 "cells": [
  {
   "cell_type": "code",
   "execution_count": null,
   "metadata": {},
   "outputs": [],
   "source": [
    "from collections import deque\n",
    "\n",
    "n=int(input())\n",
    "board=[list(map(int,input().strip())) for _ in range(n)]\n",
    "\n",
    "dx=[1,-1,0,0]\n",
    "dy=[0,0,1,-1]\n",
    "visited=[[False]*n for i in range(n)]\n",
    "result=[]\n",
    "\n",
    "def bfs(x,y):\n",
    "  count=1\n",
    "  queue=deque([(x,y)])\n",
    "  visited[x][y]=True\n",
    "\n",
    "  while queue:\n",
    "      cx, cy = queue.popleft()\n",
    "      for a in range(4):\n",
    "        nx, ny = cx + dx[a], cy + dy[a]\n",
    "        if 0 <= nx < n and 0 <= ny < n and not visited[nx][ny] and board[nx][ny] == 1:\n",
    "            visited[nx][ny] = True\n",
    "            queue.append((nx, ny))\n",
    "            count += 1  # 연결된 노드 개수 증가\n",
    "  result.append(count)\n",
    "\n",
    "for i in range(n):\n",
    "  for j in range(n):\n",
    "    if board[i][j]==1 and not visited[i][j] :\n",
    "      bfs(i,j)\n",
    "\n",
    "print(len(result))\n",
    "for size in sorted(result):  # 각 컴포넌트 크기 정렬 후 출력\n",
    "    print(size)\n",
    "\n",
    "\n",
    "\n"
   ]
  },
  {
   "cell_type": "code",
   "execution_count": null,
   "metadata": {},
   "outputs": [
    {
     "name": "stdout",
     "output_type": "stream",
     "text": [
      "3\n",
      "7\n",
      "8\n",
      "9\n"
     ]
    }
   ],
   "source": [
    "def solve(x,y):\n",
    "  count=1\n",
    "  for i in range(4):\n",
    "    xx=x+dx[i]\n",
    "    yy=y+dy[i]\n",
    "    \n",
    "    if (xx,yy) in house:\n",
    "      house.remove((xx,yy))\n",
    "      count += solve(xx,yy)\n",
    "  return count\n",
    "  \n",
    "N=int(input())\n",
    "board=[list(map(int,input().strip())) for _ in range(N)]\n",
    "house=set()\n",
    "count=0\n",
    "dx=[1,-1,0,0]\n",
    "dy=[0,0,1,-1]\n",
    "result=[]\n",
    "\n",
    "for i in range(N):\n",
    "  for j in range(N):\n",
    "    if board[i][j]==1:\n",
    "      house.add((i,j))\n",
    "      \n",
    "while house:\n",
    "  x,y=house.pop()\n",
    "  result.append(solve(x,y))\n",
    "  \n",
    "result.sort()\n",
    "\n",
    "print(len(result))\n",
    "for i in result:\n",
    "  print(i)"
   ]
  }
 ],
 "metadata": {
  "kernelspec": {
   "display_name": "Python 3",
   "language": "python",
   "name": "python3"
  },
  "language_info": {
   "codemirror_mode": {
    "name": "ipython",
    "version": 3
   },
   "file_extension": ".py",
   "mimetype": "text/x-python",
   "name": "python",
   "nbconvert_exporter": "python",
   "pygments_lexer": "ipython3",
   "version": "3.11.9"
  }
 },
 "nbformat": 4,
 "nbformat_minor": 2
}
