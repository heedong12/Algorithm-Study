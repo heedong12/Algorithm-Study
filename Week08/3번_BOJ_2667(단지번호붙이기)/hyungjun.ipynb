{
 "cells": [
  {
   "cell_type": "code",
   "execution_count": 2,
   "metadata": {},
   "outputs": [
    {
     "name": "stdout",
     "output_type": "stream",
     "text": [
      "3\n",
      "7\n",
      "8\n",
      "9\n"
     ]
    }
   ],
   "source": [
    "from collections import deque\n",
    "\n",
    "n = int(input())\n",
    "house = []\n",
    "for _ in range(n):\n",
    "    temp = list(map(int, input().strip()))  # 한 줄의 숫자를 각각 정수로 변환하여 리스트에 저장\n",
    "    house.append(temp)\n",
    "\n",
    "directions = [(0, 1), (1, 0), (0, -1), (-1, 0)]\n",
    "visited = [[False] * n for _ in range(n)]\n",
    "\n",
    "result = []\n",
    "for i in range(n):\n",
    "    for j in range(n):\n",
    "        if house[i][j] == 1 and not visited[i][j]:\n",
    "            temp = 1  #한 단지내의 집 개수수\n",
    "            queue = deque() # BFS를 위한 큐\n",
    "            queue.append((i, j))    # 시작점 추가\n",
    "            visited[i][j] = True    # 방문 처리\n",
    "            while queue:    # 큐가 빌 때까지 반복\n",
    "                current = queue.popleft()\n",
    "                for dic in directions:  # 상하좌우 탐색\n",
    "                    nx , ny = current[0] + dic[0], current[1] + dic[1]  # 다음 좌표\n",
    "                    if 0 <= nx < n and 0 <= ny < n and not visited[nx][ny] and house[nx][ny] == 1:  # 범위 체크 및 방문 여부 체크\n",
    "                        visited[nx][ny] = True  # 방문 처리\n",
    "                        queue.append((nx, ny))\n",
    "                        temp += 1\n",
    "            result.append(temp)\n",
    "print(len(result))\n",
    "for i in sorted(result):\n",
    "    print(i)"
   ]
  }
 ],
 "metadata": {
  "kernelspec": {
   "display_name": "Python 3",
   "language": "python",
   "name": "python3"
  },
  "language_info": {
   "codemirror_mode": {
    "name": "ipython",
    "version": 3
   },
   "file_extension": ".py",
   "mimetype": "text/x-python",
   "name": "python",
   "nbconvert_exporter": "python",
   "pygments_lexer": "ipython3",
   "version": "3.11.9"
  }
 },
 "nbformat": 4,
 "nbformat_minor": 2
}
