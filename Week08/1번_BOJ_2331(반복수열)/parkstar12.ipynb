{
 "cells": [
  {
   "cell_type": "code",
   "execution_count": null,
   "metadata": {},
   "outputs": [
    {
     "name": "stdout",
     "output_type": "stream",
     "text": [
      "4\n",
      "[57, 74, 65, 61, 37]\n"
     ]
    }
   ],
   "source": [
    "def solve(A,P):\n",
    "  # 자릿수 P제곱\n",
    "  num=sum(int(i)**P for i in str(A)) #int형은 index사용이 불가능해 문자열로 변환 후 다시 정수형으로 변환\n",
    "  \n",
    "  if num in result : # num이 result에 있을경우\n",
    "    repeat_num=len(result)-1\n",
    "    \n",
    "    while result[repeat_num] != num : #result[repeat_num]이 num과 같을 때까지 pop시킴\n",
    "      result.pop()\n",
    "      repeat_num -= 1   \n",
    "    return\n",
    "  else:\n",
    "    result.append(num)\n",
    "    solve(num,P)\n",
    "\n",
    "\n",
    "A,P=map(int,input().split())\n",
    "result=[]\n",
    "result.append(A)\n",
    "solve(A,P)\n",
    "print(len(result)-1)\n"
   ]
  }
 ],
 "metadata": {
  "kernelspec": {
   "display_name": "Python 3",
   "language": "python",
   "name": "python3"
  },
  "language_info": {
   "codemirror_mode": {
    "name": "ipython",
    "version": 3
   },
   "file_extension": ".py",
   "mimetype": "text/x-python",
   "name": "python",
   "nbconvert_exporter": "python",
   "pygments_lexer": "ipython3",
   "version": "3.11.9"
  }
 },
 "nbformat": 4,
 "nbformat_minor": 2
}
