{
 "cells": [
  {
   "cell_type": "code",
   "execution_count": null,
   "metadata": {},
   "outputs": [],
   "source": [
    "a, p = map(int, input().split())\n",
    "D=[a]\n",
    "check = {a : 1}\n",
    "result = 0\n",
    "while True:\n",
    "    temp = D[-1]\n",
    "    repeat = 0\n",
    "    while temp != 0:\n",
    "        repeat += (temp % 10) ** p\n",
    "        temp = temp // 10\n",
    "    if check.get(repeat):\n",
    "        checkNum = repeat\n",
    "        break\n",
    "    else:\n",
    "        check[repeat] = 1\n",
    "        D.append(repeat)\n",
    "for i in range(len(D)):\n",
    "    if D[i] == repeat:\n",
    "        result = i\n",
    "        break\n",
    "print(result)"
   ]
  }
 ],
 "metadata": {
  "language_info": {
   "name": "python"
  }
 },
 "nbformat": 4,
 "nbformat_minor": 2
}
