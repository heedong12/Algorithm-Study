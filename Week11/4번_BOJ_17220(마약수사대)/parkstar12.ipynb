{
 "cells": [
  {
   "cell_type": "code",
   "execution_count": null,
   "id": "d0db3f60",
   "metadata": {},
   "outputs": [
    {
     "name": "stdout",
     "output_type": "stream",
     "text": [
      "2\n"
     ]
    }
   ],
   "source": [
    "import copy\n",
    "from collections import deque\n",
    "N,M= map(int,input().split())\n",
    "parent_graph={}\n",
    "child_graph={}\n",
    "root=set()\n",
    "\n",
    "for i in range(N):\n",
    "  node=chr(65+i)\n",
    "  root.add(node)\n",
    "  parent_graph[node]=[]\n",
    "  child_graph[node]=[]\n",
    "  \n",
    "for _ in range(M):\n",
    "  parent,child=input().split()\n",
    "  if child in root:\n",
    "    root.remove(child)\n",
    "  parent_graph[parent].append(child)\n",
    "  child_graph[child].append(parent)\n",
    "    \n",
    "parts =list(input().split())\n",
    "catch=set(parts[1:])\n",
    "\n",
    "\n",
    "stack=deque(copy.deepcopy(root))\n",
    "\n",
    "while stack:\n",
    "  node=stack.pop()\n",
    "  if node in catch:\n",
    "    parent_graph[node]=[]\n",
    "    continue\n",
    "  for child in parent_graph[node]:\n",
    "    if child in catch:\n",
    "      parent_graph[node].remove(child)\n",
    "    else:\n",
    "      stack.append(child)\n",
    "  \n",
    "count=0\n",
    "while root:\n",
    "  next=root.pop()\n",
    "  for nnext in parent_graph[next]:\n",
    "    if nnext in catch:\n",
    "      continue\n",
    "    else:\n",
    "      count+=1\n",
    "      root.add(nnext)\n",
    "print(count)\n",
    "    \n",
    "    \n",
    "      \n"
   ]
  }
 ],
 "metadata": {
  "kernelspec": {
   "display_name": "Python 3",
   "language": "python",
   "name": "python3"
  },
  "language_info": {
   "codemirror_mode": {
    "name": "ipython",
    "version": 3
   },
   "file_extension": ".py",
   "mimetype": "text/x-python",
   "name": "python",
   "nbconvert_exporter": "python",
   "pygments_lexer": "ipython3",
   "version": "3.11.9"
  }
 },
 "nbformat": 4,
 "nbformat_minor": 5
}
