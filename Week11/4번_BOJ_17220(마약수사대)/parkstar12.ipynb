{
 "cells": [
  {
   "cell_type": "code",
   "execution_count": null,
   "id": "d0db3f60",
   "metadata": {},
   "outputs": [
    {
     "name": "stdout",
     "output_type": "stream",
     "text": [
      "2\n"
     ]
    }
   ],
   "source": [
    "import copy\n",
    "from collections import deque\n",
    "N,M= map(int,input().split())\n",
    "parent_graph={}\n",
    "child_graph={}\n",
    "root=set()\n",
    "\n",
    "# node : root노드 판별하기 위한 리스트\n",
    "for i in range(N):\n",
    "  node=chr(65+i)\n",
    "  root.add(node)\n",
    "  parent_graph[node]=[] # parent_graph : 그래프 초기화 \n",
    "  \n",
    "for _ in range(M):\n",
    "  parent,child=input().split()\n",
    "  if child in root:\n",
    "    root.remove(child) #자식 노드로 입력되면 node에서 삭제\n",
    "  parent_graph[parent].append(child)\n",
    "    \n",
    "parts =list(input().split())\n",
    "catch=set(parts[1:])\n",
    "\n",
    "\n",
    "stack=deque(copy.deepcopy(root))\n",
    "\n",
    "#root노드부터 순회하면서 검거된 공급자 노드 삭제\n",
    "while stack:\n",
    "  node=stack.pop()\n",
    "  if node in catch: # 검거된 노드 삭제\n",
    "    parent_graph[node]=[]\n",
    "    continue\n",
    "  for child in parent_graph[node]: #부모노드가 공급하는 노드중 검거된 노드가 있으면 정보 삭제\n",
    "    if child in catch:\n",
    "      parent_graph[node].remove(child)\n",
    "    else:\n",
    "      stack.append(child)\n",
    "  \n",
    "count=0\n",
    "while root:\n",
    "  next=root.pop()\n",
    "  for nnext in parent_graph[next]:\n",
    "    if nnext in catch:\n",
    "      continue\n",
    "    else:\n",
    "      count+=1\n",
    "      root.add(nnext)\n",
    "print(count)"
   ]
  }
 ],
 "metadata": {
  "kernelspec": {
   "display_name": "Python 3",
   "language": "python",
   "name": "python3"
  },
  "language_info": {
   "codemirror_mode": {
    "name": "ipython",
    "version": 3
   },
   "file_extension": ".py",
   "mimetype": "text/x-python",
   "name": "python",
   "nbconvert_exporter": "python",
   "pygments_lexer": "ipython3",
   "version": "3.11.9"
  }
 },
 "nbformat": 4,
 "nbformat_minor": 5
}
