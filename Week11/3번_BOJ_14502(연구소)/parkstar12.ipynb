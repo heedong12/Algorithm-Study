{
 "cells": [
  {
   "cell_type": "code",
   "execution_count": null,
   "id": "1a3ac984",
   "metadata": {},
   "outputs": [],
   "source": [
    "from collections import deque\n",
    "from itertools import combinations\n",
    "\n",
    "N,M=map(int,input().split())\n",
    "board=[list(map(int,input().split())) for _ in range(N)]\n",
    "\n",
    "dx=[-1,0,1,0]\n",
    "dy=[0,1,0,-1]\n",
    "\n",
    "virus=[]\n",
    "nothing=[]\n",
    "\n",
    "for a in range(N):\n",
    "  for b in range(M):\n",
    "    if board[a][b] == 2:\n",
    "      virus.append([a,b])\n",
    "    elif board[a][b] == 0:\n",
    "      nothing.append([a,b])\n",
    "\n",
    "# 세 개의 벽 위치를 뽑아서 시뮬레이션\n",
    "def simulate(walls):\n",
    "    # board 깊은 복사\n",
    "    temp = [row[:] for row in board]\n",
    "    q = deque()\n",
    "    # 벽 세우기\n",
    "    for wx, wy in walls:\n",
    "        temp[wx][wy] = 1\n",
    "    # 바이러스 퍼뜨리기\n",
    "    for x, y in virus:\n",
    "        q.append((x, y))\n",
    "    while q:\n",
    "        x, y = q.popleft()\n",
    "        for d in range(4):\n",
    "            nx, ny = x + dx[d], y + dy[d]\n",
    "            if 0 <= nx < N and 0 <= ny < M and temp[nx][ny] == 0:\n",
    "                temp[nx][ny] = 2\n",
    "                q.append((nx, ny))\n",
    "    # 안전 영역(0) 개수 반환\n",
    "    return sum(row.count(0) for row in temp)\n",
    "\n",
    "ans = 0\n",
    "# 가능한 벽 생성 조합으로 시뮬레이션 돌리기\n",
    "for w1, w2, w3 in combinations(nothing, 3): \n",
    "    safe = simulate([w1, w2, w3])\n",
    "    if safe > ans:\n",
    "        ans = safe\n",
    "\n",
    "print(ans)\n"
   ]
  }
 ],
 "metadata": {
  "kernelspec": {
   "display_name": "Python 3",
   "language": "python",
   "name": "python3"
  },
  "language_info": {
   "codemirror_mode": {
    "name": "ipython",
    "version": 3
   },
   "file_extension": ".py",
   "mimetype": "text/x-python",
   "name": "python",
   "nbconvert_exporter": "python",
   "pygments_lexer": "ipython3",
   "version": "3.11.9"
  }
 },
 "nbformat": 4,
 "nbformat_minor": 5
}
