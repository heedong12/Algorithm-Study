{
 "cells": [
  {
   "cell_type": "code",
   "execution_count": null,
   "id": "8fd9d2cb",
   "metadata": {},
   "outputs": [
    {
     "name": "stdout",
     "output_type": "stream",
     "text": [
      "0\n",
      "1\n",
      "1\n",
      "3\n"
     ]
    }
   ],
   "source": [
    "def dfs(x,y,H,W):\n",
    "  stack=[(x,y)]\n",
    "  visited[x][y]=True\n",
    "  while stack:\n",
    "    x,y=stack.pop()\n",
    "    for i in range(8):\n",
    "      nx=x+dx[i]\n",
    "      ny=y+dy[i]\n",
    "      if 0 <= nx < H and 0 <= ny < W and board[nx][ny] == 1 and not visited[nx][ny]:\n",
    "        visited[nx][ny] = True\n",
    "        stack.append((nx, ny))\n",
    "        \n",
    "dx=[-1,-1,0,1,1,1,0,-1]\n",
    "dy=[0,1,1,1,0,-1,-1,-1]\n",
    "result=[]\n",
    "\n",
    "\n",
    "while 1:\n",
    "  W,H = map(int,input().split())\n",
    "  if W == 0 and H ==0:\n",
    "    break\n",
    "  board=[list(map(int,input().split())) for _ in range(H)]\n",
    "  visited=[[False]*W for _ in range(H)]\n",
    "  count=0\n",
    "  i=0\n",
    "  j=0\n",
    "  for i in range(H):\n",
    "    for j in range(W):\n",
    "      if board[i][j] == 1 and visited[i][j] == False:\n",
    "        visited[i][j]=True\n",
    "        dfs(i,j,H,W)\n",
    "        count += 1\n",
    "  result.append(count)\n",
    "  \n",
    "for i in range(len(result)):\n",
    "  print(result[i])\n",
    "      \n",
    "  \n",
    "         "
   ]
  }
 ],
 "metadata": {
  "kernelspec": {
   "display_name": "Python 3",
   "language": "python",
   "name": "python3"
  },
  "language_info": {
   "codemirror_mode": {
    "name": "ipython",
    "version": 3
   },
   "file_extension": ".py",
   "mimetype": "text/x-python",
   "name": "python",
   "nbconvert_exporter": "python",
   "pygments_lexer": "ipython3",
   "version": "3.11.9"
  }
 },
 "nbformat": 4,
 "nbformat_minor": 5
}
