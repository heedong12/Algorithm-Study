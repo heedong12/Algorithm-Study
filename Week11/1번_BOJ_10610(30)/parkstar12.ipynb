{
 "cells": [
  {
   "cell_type": "code",
   "execution_count": null,
   "id": "ce3e0f87",
   "metadata": {},
   "outputs": [
    {
     "name": "stdout",
     "output_type": "stream",
     "text": [
      "210\n"
     ]
    }
   ],
   "source": [
    "N = input().strip()\n",
    "flag=0\n",
    "sum_num=0\n",
    "\n",
    "for i in range(len(N)):\n",
    "  if N[i] == '0':\n",
    "    flag=1\n",
    "  sum_num += int(N[i])\n",
    "  \n",
    "if flag == 1 and sum_num%3 == 0:\n",
    "  result=sorted(N, reverse=True)\n",
    "  print(''.join(result))\n",
    "else:\n",
    "  print(-1)\n",
    "\n"
   ]
  }
 ],
 "metadata": {
  "kernelspec": {
   "display_name": "Python 3",
   "language": "python",
   "name": "python3"
  },
  "language_info": {
   "codemirror_mode": {
    "name": "ipython",
    "version": 3
   },
   "file_extension": ".py",
   "mimetype": "text/x-python",
   "name": "python",
   "nbconvert_exporter": "python",
   "pygments_lexer": "ipython3",
   "version": "3.11.9"
  }
 },
 "nbformat": 4,
 "nbformat_minor": 5
}
