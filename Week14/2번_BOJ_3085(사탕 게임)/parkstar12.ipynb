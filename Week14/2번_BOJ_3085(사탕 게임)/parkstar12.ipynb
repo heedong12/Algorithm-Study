{
 "cells": [
  {
   "cell_type": "code",
   "execution_count": null,
   "id": "a2f143e3",
   "metadata": {},
   "outputs": [
    {
     "name": "stdout",
     "output_type": "stream",
     "text": [
      "4\n"
     ]
    }
   ],
   "source": [
    "def row_max(row):\n",
    "  max_count=0\n",
    "  count=1\n",
    "  for i in range(len(row)-1):\n",
    "    if row[i] == row[i+1]:\n",
    "      count+=1\n",
    "    else:\n",
    "      max_count=max(max_count,count)\n",
    "      count=1\n",
    "    max_count=max(max_count,count)\n",
    "  return(max_count)\n",
    "\n",
    "def col_max(col):\n",
    "  count=1\n",
    "  max_count=0\n",
    "  col_=[]\n",
    "  for row in range(N):\n",
    "    col_.append(board[row][col])\n",
    "    \n",
    "  for y in range(len(col_)-1):\n",
    "    if col_[y]==col_[y+1]:\n",
    "      count+=1\n",
    "    else:\n",
    "      max_count=max(max_count,count)\n",
    "      count=1\n",
    "    max_count=max(max_count,count)\n",
    "  return(max_count)\n",
    "      \n",
    "\n",
    "N=int(input())\n",
    "dx=[-1,1,0,0]\n",
    "dy=[0,0,-1,1]\n",
    "board=[list(input())for _ in range(N)]\n",
    "max_count=0\n",
    "for i in range(N):\n",
    "  max_count=max(row_max(board[i]),col_max(i),max_count)\n",
    "  \n",
    "for x in range(N):\n",
    "  for y in range(N):\n",
    "    for d in range(4):\n",
    "      if 0 <= x+dx[d] < N and 0 <= y+dy[d] < N:\n",
    "         board[x][y],board[x+dx[d]][y+dy[d]]=board[x+dx[d]][y+dy[d]],board[x][y]\n",
    "         max_count=max(row_max(board[x]),row_max(board[x+dx[d]]),col_max(y),col_max(y+dy[d]),max_count)\n",
    "         board[x][y],board[x+dx[d]][y+dy[d]]=board[x+dx[d]][y+dy[d]],board[x][y]\n",
    "print(max_count)\n"
   ]
  }
 ],
 "metadata": {
  "kernelspec": {
   "display_name": "Python 3",
   "language": "python",
   "name": "python3"
  },
  "language_info": {
   "codemirror_mode": {
    "name": "ipython",
    "version": 3
   },
   "file_extension": ".py",
   "mimetype": "text/x-python",
   "name": "python",
   "nbconvert_exporter": "python",
   "pygments_lexer": "ipython3",
   "version": "3.11.9"
  }
 },
 "nbformat": 4,
 "nbformat_minor": 5
}
