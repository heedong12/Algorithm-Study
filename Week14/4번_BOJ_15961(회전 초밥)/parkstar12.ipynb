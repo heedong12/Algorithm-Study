{
 "cells": [
  {
   "cell_type": "code",
   "execution_count": null,
   "id": "12331522",
   "metadata": {},
   "outputs": [],
   "source": [
    "N, d, k, c = map(int, input().split())\n",
    "sushi = [int(input()) for _ in range(N)]\n",
    "sushi_d = [0] * (d + 1)\n",
    "\n",
    "count = 0\n",
    "for i in range(k):\n",
    "  if sushi_d[sushi[i]] == 0:\n",
    "    count += 1\n",
    "  sushi_d[sushi[i]] += 1\n",
    "\n",
    "max_count = count + (1 if sushi_d[c] == 0 else 0)\n",
    "\n",
    "for i in range(1, N):\n",
    "  out_sushi = sushi[i - 1]\n",
    "  in_sushi = sushi[(i + k - 1) % N]\n",
    "\n",
    "  sushi_d[out_sushi] -= 1\n",
    "  if sushi_d[out_sushi] == 0:\n",
    "    count -= 1\n",
    "    \n",
    "  sushi_d[in_sushi] += 1\n",
    "  if sushi_d[in_sushi] == 1:\n",
    "    count += 1\n",
    "\n",
    "  current = count + (1 if sushi_d[c] == 0 else 0)\n",
    "  max_count = max(max_count, current)\n",
    "\n",
    "print(max_count)\n"
   ]
  }
 ],
 "metadata": {
  "kernelspec": {
   "display_name": "Python 3",
   "language": "python",
   "name": "python3"
  },
  "language_info": {
   "codemirror_mode": {
    "name": "ipython",
    "version": 3
   },
   "file_extension": ".py",
   "mimetype": "text/x-python",
   "name": "python",
   "nbconvert_exporter": "python",
   "pygments_lexer": "ipython3",
   "version": "3.13.2"
  }
 },
 "nbformat": 4,
 "nbformat_minor": 5
}
