{
 "cells": [
  {
   "cell_type": "code",
   "execution_count": 54,
   "id": "1eadcfd0",
   "metadata": {},
   "outputs": [
    {
     "name": "stdout",
     "output_type": "stream",
     "text": [
      "FRULA\n"
     ]
    }
   ],
   "source": [
    "input_string = input()\n",
    "tnt = input()\n",
    "tnt_len = len(tnt)\n",
    "\n",
    "stack = []\n",
    "\n",
    "for char in input_string:\n",
    "    stack.append(char)\n",
    "    # 최근 들어온 stack의 끝 부분이 tnt와 같은지 검사\n",
    "    if ''.join(stack[-tnt_len:]) == tnt:\n",
    "        # 폭발 문자열 삭제\n",
    "        for _ in range(tnt_len):\n",
    "            stack.pop()\n",
    "\n",
    "result = ''.join(stack)\n",
    "print(result if result else \"FRULA\")"
   ]
  }
 ],
 "metadata": {
  "kernelspec": {
   "display_name": "Python 3",
   "language": "python",
   "name": "python3"
  },
  "language_info": {
   "codemirror_mode": {
    "name": "ipython",
    "version": 3
   },
   "file_extension": ".py",
   "mimetype": "text/x-python",
   "name": "python",
   "nbconvert_exporter": "python",
   "pygments_lexer": "ipython3",
   "version": "3.13.2"
  }
 },
 "nbformat": 4,
 "nbformat_minor": 5
}
