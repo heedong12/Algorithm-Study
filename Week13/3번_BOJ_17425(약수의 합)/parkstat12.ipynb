{
 "cells": [
  {
   "cell_type": "code",
   "execution_count": null,
   "id": "32242e24",
   "metadata": {},
   "outputs": [
    {
     "name": "stdout",
     "output_type": "stream",
     "text": [
      "1\n",
      "4\n",
      "87\n",
      "4065\n",
      "82256014\n"
     ]
    }
   ],
   "source": [
    "T=int(input())\n",
    "T_num=[int(input())for _ in range(T)]\n",
    "N=max(T_num)\n",
    "numbers=[0]*(N+1)\n",
    "result=0\n",
    "for num in range(1,N+1):\n",
    "  for i in range(2,N//num+1):\n",
    "    numbers[num*i] += num\n",
    "  numbers[num]+=numbers[num-1]+num\n",
    "for t in T_num:\n",
    "  print(numbers[t])"
   ]
  }
 ],
 "metadata": {
  "kernelspec": {
   "display_name": "Python 3",
   "language": "python",
   "name": "python3"
  },
  "language_info": {
   "codemirror_mode": {
    "name": "ipython",
    "version": 3
   },
   "file_extension": ".py",
   "mimetype": "text/x-python",
   "name": "python",
   "nbconvert_exporter": "python",
   "pygments_lexer": "ipython3",
   "version": "3.13.2"
  }
 },
 "nbformat": 4,
 "nbformat_minor": 5
}
