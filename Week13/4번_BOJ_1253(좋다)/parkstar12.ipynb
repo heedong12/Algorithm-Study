{
 "cells": [
  {
   "cell_type": "code",
   "execution_count": 24,
   "id": "861f0b6c",
   "metadata": {},
   "outputs": [
    {
     "name": "stdout",
     "output_type": "stream",
     "text": [
      "8\n"
     ]
    }
   ],
   "source": [
    "def binary(target,num1,num2):\n",
    "  start=0\n",
    "  end=N-1\n",
    "\n",
    "  while start <= end:\n",
    "    mid=(start+end)//2\n",
    "    if mid==num1 or mid==num2:\n",
    "      if mid==num1:\n",
    "        end=mid-1\n",
    "      else:\n",
    "        start=mid+1\n",
    "      continue\n",
    "    if numbers[mid]>target:\n",
    "      end = mid-1\n",
    "    elif numbers[mid]<target:\n",
    "      start = mid+1\n",
    "    else:\n",
    "      return True\n",
    "  return False\n",
    "\n",
    "N=int(input())\n",
    "if N<3:\n",
    "  print(0)\n",
    "  exit()\n",
    "  \n",
    "numbers=list(map(int,input().split()))\n",
    "numbers.sort()\n",
    "count=0\n",
    "\n",
    "for num in range(N-1,-1,-1):\n",
    "  for i in range(0,N):\n",
    "    if num==i:\n",
    "      continue\n",
    "    target=numbers[num]-numbers[i]\n",
    "    if binary(target,num,i) :\n",
    "      count+=1\n",
    "      break\n",
    "\n",
    "print(count)\n"
   ]
  }
 ],
 "metadata": {
  "kernelspec": {
   "display_name": "Python 3",
   "language": "python",
   "name": "python3"
  },
  "language_info": {
   "codemirror_mode": {
    "name": "ipython",
    "version": 3
   },
   "file_extension": ".py",
   "mimetype": "text/x-python",
   "name": "python",
   "nbconvert_exporter": "python",
   "pygments_lexer": "ipython3",
   "version": "3.13.2"
  }
 },
 "nbformat": 4,
 "nbformat_minor": 5
}
