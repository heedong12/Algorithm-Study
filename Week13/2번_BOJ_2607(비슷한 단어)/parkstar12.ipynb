{
 "cells": [
  {
   "cell_type": "code",
   "execution_count": null,
   "id": "14ceaf95",
   "metadata": {},
   "outputs": [],
   "source": [
    "N = int(input().strip())\n",
    "first = input().strip()\n",
    "\n",
    "# 첫 단어의 문자 빈도 계산\n",
    "first_count = {}\n",
    "for ch in first:\n",
    "    first_count[ch] = first_count.get(ch, 0) + 1\n",
    "\n",
    "result = 0\n",
    "\n",
    "for _ in range(N - 1):\n",
    "    other = input().strip()\n",
    "    other_count = {}\n",
    "    for ch in other:\n",
    "      other_count[ch] = other_count.get(ch, 0) + 1\n",
    "      \n",
    "    sum_diff = 0\n",
    "    \n",
    "    for ch in set(first_count) | set(other_count):\n",
    "      sum_diff += abs(first_count.get(ch, 0) - other_count.get(ch, 0))\n",
    "      if sum_diff > 2:\n",
    "        break\n",
    "\n",
    "    # sum_diff == 0 : 완전 동일\n",
    "    # sum_diff == 1 : 삽입 or 삭제 한 번\n",
    "    # sum_diff == 2 and len 차이 0 : 교체 한 번\n",
    "    if sum_diff == 0 or sum_diff == 1 or (sum_diff == 2 and len(first) == len(other)):\n",
    "      result += 1\n",
    "\n",
    "print(result)\n"
   ]
  }
 ],
 "metadata": {
  "kernelspec": {
   "display_name": "Python 3",
   "language": "python",
   "name": "python3"
  },
  "language_info": {
   "codemirror_mode": {
    "name": "ipython",
    "version": 3
   },
   "file_extension": ".py",
   "mimetype": "text/x-python",
   "name": "python",
   "nbconvert_exporter": "python",
   "pygments_lexer": "ipython3",
   "version": "3.11.9"
  }
 },
 "nbformat": 4,
 "nbformat_minor": 5
}
