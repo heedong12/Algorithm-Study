{
 "cells": [
  {
   "cell_type": "code",
   "execution_count": 26,
   "id": "98242336",
   "metadata": {},
   "outputs": [
    {
     "name": "stdout",
     "output_type": "stream",
     "text": [
      "351\n"
     ]
    }
   ],
   "source": [
    "def solve(n):\n",
    "  count=0\n",
    "  for number in range(len(numbers)):\n",
    "    count += numbers[number]//n\n",
    "  return count\n",
    "\n",
    "N,K=map(int,input().split())\n",
    "numbers=[]\n",
    "for _ in range(N):\n",
    "  num=int(input())\n",
    "  numbers.append(num)\n",
    "\n",
    "end=max(numbers)\n",
    "start=1\n",
    "while start <= end:\n",
    "    mid = (start + end) // 2\n",
    "    if solve(mid) >= K:\n",
    "        start = mid + 1\n",
    "    else:\n",
    "        end = mid - 1\n",
    "print(end)\n"
   ]
  }
 ],
 "metadata": {
  "kernelspec": {
   "display_name": "Python 3",
   "language": "python",
   "name": "python3"
  },
  "language_info": {
   "codemirror_mode": {
    "name": "ipython",
    "version": 3
   },
   "file_extension": ".py",
   "mimetype": "text/x-python",
   "name": "python",
   "nbconvert_exporter": "python",
   "pygments_lexer": "ipython3",
   "version": "3.13.2"
  }
 },
 "nbformat": 4,
 "nbformat_minor": 5
}
