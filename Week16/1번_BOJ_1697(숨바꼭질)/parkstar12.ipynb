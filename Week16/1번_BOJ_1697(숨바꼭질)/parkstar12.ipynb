{
 "cells": [
  {
   "cell_type": "code",
   "execution_count": null,
   "id": "bbef6bdc",
   "metadata": {},
   "outputs": [],
   "source": [
    "from collections import deque\n",
    "N, M = map(int, input().split())\n",
    "visited = [False] * 100001\n",
    "queue = deque()\n",
    "queue.append((0, N))\n",
    "visited[N] = True\n",
    "while queue:\n",
    "    count, now = queue.popleft()\n",
    "    if now == M:\n",
    "        print(count)\n",
    "        break\n",
    "    if now*2 < 100001 and not visited[now*2]:\n",
    "        queue.append((count + 1, now * 2))\n",
    "        visited[now*2] = True\n",
    "    if now+1 < 100001 and not visited[now+1]:\n",
    "        queue.append((count + 1, now + 1))\n",
    "        visited[now + 1] = True\n",
    "    if now-1 >= 0 and not visited[now-1]:\n",
    "        queue.append((count+1, now - 1))\n",
    "        visited[now - 1] = True\n"
   ]
  }
 ],
 "metadata": {
  "language_info": {
   "name": "python"
  }
 },
 "nbformat": 4,
 "nbformat_minor": 5
}
