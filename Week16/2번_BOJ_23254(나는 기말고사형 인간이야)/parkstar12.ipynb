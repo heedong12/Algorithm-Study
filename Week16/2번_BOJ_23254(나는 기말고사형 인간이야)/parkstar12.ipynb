{
 "cells": [
  {
   "cell_type": "code",
   "execution_count": null,
   "id": "46abd88f",
   "metadata": {},
   "outputs": [],
   "source": [
    "import heapq\n",
    "\n",
    "N, M = map(int, input().split())\n",
    "base_score = list(map(int, input().split()))\n",
    "up_score = list(map(int, input().split()))\n",
    "\n",
    "T = 24*N\n",
    "queue = []\n",
    "\n",
    "for i in range(M):\n",
    "  heapq.heappush(queue, (-up_score[i], base_score[i]))\n",
    "\n",
    "result = 0  \n",
    "time = 0\n",
    "\n",
    "while T > time and queue:\n",
    "  plus, base = heapq.heappop(queue)\n",
    "  need_hours = (100 - base) // (-plus)\n",
    "  remain_time = T - time\n",
    "\n",
    "  if need_hours < remain_time:\n",
    "    tmp = base + ((-plus) * need_hours)\n",
    "    if tmp == 100:\n",
    "      result += 100\n",
    "    else:\n",
    "      heapq.heappush(queue, (-(100 - tmp), tmp))\n",
    "    time += need_hours\n",
    "\n",
    "  else: # 남은 시간이 부족한 경우\n",
    "    final_gain = base + (remain_time * (-plus))\n",
    "    if final_gain >= 100:\n",
    "      result += 100\n",
    "    else:\n",
    "      result += final_gain\n",
    "    time += remain_time\n",
    "\n",
    "for neg_gain, a in queue:\n",
    "  result += a\n",
    "print(result)\n"
   ]
  }
 ],
 "metadata": {
  "language_info": {
   "name": "python"
  }
 },
 "nbformat": 4,
 "nbformat_minor": 5
}
