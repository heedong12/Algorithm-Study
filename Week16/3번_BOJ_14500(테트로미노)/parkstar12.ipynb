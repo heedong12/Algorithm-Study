{
 "cells": [
  {
   "cell_type": "code",
   "execution_count": null,
   "id": "fc1dbdfb",
   "metadata": {},
   "outputs": [],
   "source": [
    "N, M = map(int, input().split())\n",
    "board = [list(map(int, input().split())) for _ in range(N)]\n",
    "visited = [[False]*M for _ in range(N)]\n",
    "dirs = [(-1, 0), (1, 0), (0, -1), (0, 1)]\n",
    "answer = 0\n",
    "\n",
    "def check_T(r, c):\n",
    "    global answer\n",
    "    for i in range(4):\n",
    "        total = board[r][c]\n",
    "        valid = True\n",
    "        for j in range(3):\n",
    "            dr, dc = dirs[(i + j) % 4]\n",
    "            nr, nc = r + dr, c + dc\n",
    "            if not (0 <= nr < N and 0 <= nc < M):\n",
    "                valid = False\n",
    "                break\n",
    "            total += board[nr][nc]\n",
    "        if valid:\n",
    "            answer = max(answer, total)\n",
    "\n",
    "def dfs(r, c, depth, s):\n",
    "    global answer\n",
    "    if depth == 4:\n",
    "        answer = max(answer, s)\n",
    "        return\n",
    "    \n",
    "    for k in range(4):\n",
    "        dr, dc = dirs[k]\n",
    "        nr, nc = r + dr, c + dc\n",
    "        if 0 <= nr < N and 0 <= nc < M and not visited[nr][nc]:\n",
    "            visited[nr][nc] = True\n",
    "            dfs(nr, nc, depth + 1, s + board[nr][nc])\n",
    "            visited[nr][nc] = False\n",
    "\n",
    "    if depth == 1:\n",
    "        check_T(r, c)\n",
    "\n",
    "for i in range(N):\n",
    "    for j in range(M):\n",
    "        visited[i][j] = True\n",
    "        dfs(i, j, 1, board[i][j])\n",
    "        visited[i][j] = False\n",
    "\n",
    "print(answer)\n"
   ]
  }
 ],
 "metadata": {
  "language_info": {
   "name": "python"
  }
 },
 "nbformat": 4,
 "nbformat_minor": 5
}
