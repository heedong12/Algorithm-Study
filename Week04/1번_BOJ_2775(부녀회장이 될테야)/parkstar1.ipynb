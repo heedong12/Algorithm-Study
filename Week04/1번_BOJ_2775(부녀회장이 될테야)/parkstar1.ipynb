{
  "cells": [
    {
      "cell_type": "code",
      "execution_count": null,
      "metadata": {},
      "outputs": [],
      "source": [
        "t = int(input())\n",
        "for _ in range(t):\n",
        "    k = int(input())\n",
        "    n = int(input())\n",
        "    \n",
        "    dp = [[0] * (n + 1) for _ in range(k + 1)]  # 2차원 리스트 초기화\n",
        "    \n",
        "    for i in range(1, n + 1):  # 0층 초기화\n",
        "        dp[0][i] = i  \n",
        "    \n",
        "    for b in range(1, k + 1):\n",
        "        total = 0\n",
        "        for c in range(1, n + 1):\n",
        "            total += dp[b - 1][c]\n",
        "            dp[b][c] = total  # 현재 층의 값 계산\n",
        "    \n",
        "    print(dp[k][n])  # 최종 결과 출력\n"
      ]
    }
  ],
  "metadata": {
    "language_info": {
      "name": "python"
    }
  },
  "nbformat": 4,
  "nbformat_minor": 2
}
