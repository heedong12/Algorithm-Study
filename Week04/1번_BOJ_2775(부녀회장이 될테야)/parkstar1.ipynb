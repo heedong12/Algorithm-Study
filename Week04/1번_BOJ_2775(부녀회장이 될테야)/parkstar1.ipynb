{
 "cells": [
  {
   "cell_type": "code",
   "execution_count": null,
   "metadata": {},
   "outputs": [],
   "source": [
    "t=int(input())\n",
    "for a in range(t):\n",
    "    k=int(input())\n",
    "    n=int(input())\n",
    "    dp=[[0]*(n+1) for _ in range(k+1)]:\n",
    "    for i in range(n+1):\n",
    "      dp[0][i]=i:\n",
    "    for b in range(1,k+1):\n",
    "        total=0\n",
    "        for c in range(1,n+1):\n",
    "          total+=dp[b-1][c]\n",
    "          dp[b][c]=total\n"
    "    result=dp[k][n]\n"
    "    print(result)\n"
    "     \n"
   ]
  }
 ],
 "metadata": {
  "language_info": {
   "name": "python"
  }
 },
 "nbformat": 4,
 "nbformat_minor": 2
}
