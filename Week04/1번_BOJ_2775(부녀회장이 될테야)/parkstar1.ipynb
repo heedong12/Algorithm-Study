t=int(input())

for a in range(t):
  k=int(input())
  n=int(input())
  dp=[[0]*(n+1) for _ in range(k+1)]

  for i in range(n+1):
    dp[0][i]=i
  for b in range(1,k+1):
    total=0
    for c in range(1,n+1):
      total+=dp[b-1][c]
      dp[b][c]=total

  result=dp[k][n]
  print(result)
