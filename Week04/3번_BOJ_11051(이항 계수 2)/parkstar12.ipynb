{
 "cells": [
  {
   "cell_type": "code",
   "execution_count": 4,
   "metadata": {},
   "outputs": [
    {
     "name": "stdout",
     "output_type": "stream",
     "text": [
      "10\n"
     ]
    }
   ],
   "source": [
    "def factorial(n):\n",
    "  if(n==0):\n",
    "    return 1\n",
    "  \n",
    "  num=1\n",
    "\n",
    "  for i in range(1,n+1):\n",
    "    num*=i\n",
    "  return num\n",
    "\n",
    "N,K=map(int,input().split())\n",
    "\n",
    "mother=factorial(N)\n",
    "son=factorial(N-K)*factorial(K)\n",
    "result=mother//son\n",
    "result%=10007\n",
    "print(result)"
   ]
  }
 ],
 "metadata": {
  "kernelspec": {
   "display_name": "Python 3",
   "language": "python",
   "name": "python3"
  },
  "language_info": {
   "codemirror_mode": {
    "name": "ipython",
    "version": 3
   },
   "file_extension": ".py",
   "mimetype": "text/x-python",
   "name": "python",
   "nbconvert_exporter": "python",
   "pygments_lexer": "ipython3",
   "version": "3.11.9"
  }
 },
 "nbformat": 4,
 "nbformat_minor": 2
}
