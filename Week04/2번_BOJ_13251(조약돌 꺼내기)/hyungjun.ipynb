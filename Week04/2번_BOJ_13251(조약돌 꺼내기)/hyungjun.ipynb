{
 "cells": [
  {
   "cell_type": "code",
   "execution_count": 6,
   "metadata": {},
   "outputs": [
    {
     "name": "stdout",
     "output_type": "stream",
     "text": [
      "0.3006535947712418\n"
     ]
    }
   ],
   "source": [
    "import math\n",
    "\n",
    "M = int(input())\n",
    "colors = list(map(int,input().split()))\n",
    "K = int(input())\n",
    "total = sum(colors)\n",
    "total = math.comb(total,K)\n",
    "sameColor = 0\n",
    "for i in colors:\n",
    "    sameColor += math.comb(i,K)\n",
    "print(sameColor/total)\n",
    "\n",
    "\n"
   ]
  },
  {
   "cell_type": "code",
   "execution_count": null,
   "metadata": {},
   "outputs": [
    {
     "name": "stdout",
     "output_type": "stream",
     "text": [
      "0.30065359477124187\n"
     ]
    }
   ],
   "source": [
    "M = int(input())\n",
    "colors = list(map(int,input().split()))\n",
    "total = sum(colors)\n",
    "K = int(input())\n",
    "probability = 0\n",
    "if M == 0 or K == 0:\n",
    "    print(1.0)\n",
    "else:\n",
    "    for i in range(M):\n",
    "        temp = 1\n",
    "        if K > colors[i]:\n",
    "            continue\n",
    "        for j in range(K):\n",
    "            temp *= (colors[i] - j)/(total - j)\n",
    "        probability += temp\n",
    "    print(probability)"
   ]
  }
 ],
 "metadata": {
  "kernelspec": {
   "display_name": "Python 3",
   "language": "python",
   "name": "python3"
  },
  "language_info": {
   "codemirror_mode": {
    "name": "ipython",
    "version": 3
   },
   "file_extension": ".py",
   "mimetype": "text/x-python",
   "name": "python",
   "nbconvert_exporter": "python",
   "pygments_lexer": "ipython3",
   "version": "3.8.6"
  }
 },
 "nbformat": 4,
 "nbformat_minor": 2
}
