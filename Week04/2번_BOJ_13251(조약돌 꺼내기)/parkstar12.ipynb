{
 "cells": [
  {
   "cell_type": "code",
   "execution_count": null,
   "metadata": {},
   "outputs": [
    {
     "ename": "_IncompleteInputError",
     "evalue": "incomplete input (3927248330.py, line 7)",
     "output_type": "error",
     "traceback": [
      "\u001b[1;36m  Cell \u001b[1;32mIn[1], line 7\u001b[1;36m\u001b[0m\n\u001b[1;33m    for i in arr:\u001b[0m\n\u001b[1;37m                 ^\u001b[0m\n\u001b[1;31m_IncompleteInputError\u001b[0m\u001b[1;31m:\u001b[0m incomplete input\n"
     ]
    }
   ],
   "source": [
    "import math\n",
    "\n",
    "def combination(n,r):\n",
    "  if r>n:\n",
    "    return 0\n",
    "  return math.comb(n,r)\n",
    "\n",
    "M=int(input())\n",
    "color_num=list(map(int,input().split()))\n",
    "K=int(input())\n",
    "\n",
    "total=combination(sum(color_num),K)\n",
    "\n",
    "caculation=0\n",
    "for i in color_num:\n",
    "  caculation+=combination(i,K)\n",
    "\n",
    "result=caculation/total\n",
    "print(f\"{result:.9f}\")\n"
   ]
  }
 ],
]
