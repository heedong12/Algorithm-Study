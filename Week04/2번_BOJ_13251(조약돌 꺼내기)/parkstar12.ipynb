{
 "cells": [
  {
   "cell_type": "code",
   "execution_count": null,
   "metadata": {},
   "source": [
    "import math\n",
    "\n",
    "def combination(n,r):\n",
    "  if r>n:\n",
    "    return 0\n",
    "  return math.comb(n,r)\n",
    "\n",
    "M=int(input())\n",
    "color_num=list(map(int,input().split()))\n",
    "K=int(input())\n",
    "\n",
    "total=combination(sum(color_num),K)\n",
    "\n",
    "caculation=0\n",
    "for i in color_num:\n",
    "  caculation+=combination(i,K)\n",
    "\n",
    "result=caculation/total\n",
    "print(f\"{result:.9f}\")\n"
   ]
  }
 ],
 "metadata": {
  "kernelspec": {
   "display_name": "Python 3",
   "language": "python",
   "name": "python3"
  },
  "language_info": {
   "codemirror_mode": {
    "name": "ipython",
    "version": 3
   },
   "file_extension": ".py",
   "mimetype": "text/x-python",
   "name": "python",
   "nbconvert_exporter": "python",
   "pygments_lexer": "ipython3",
   "version": "3.8.6"
  }
 },
 "nbformat": 4,
 "nbformat_minor": 2
}
