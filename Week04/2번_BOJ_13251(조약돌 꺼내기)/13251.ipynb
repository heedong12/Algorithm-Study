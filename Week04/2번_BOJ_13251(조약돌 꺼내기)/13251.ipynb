{
 "cells": [
  {
   "cell_type": "code",
   "execution_count": null,
   "metadata": {},
   "outputs": [
    {
     "ename": "_IncompleteInputError",
     "evalue": "incomplete input (3927248330.py, line 7)",
     "output_type": "error",
     "traceback": [
      "\u001b[1;36m  Cell \u001b[1;32mIn[1], line 7\u001b[1;36m\u001b[0m\n\u001b[1;33m    for i in arr:\u001b[0m\n\u001b[1;37m                 ^\u001b[0m\n\u001b[1;31m_IncompleteInputError\u001b[0m\u001b[1;31m:\u001b[0m incomplete input\n"
     ]
    }
   ],
   "source": [
    "def comb(arr,n):\n",
    "  result=[]\n",
    "  if n > len(arr):\n",
    "    return result\n",
    "  \n",
    "  if n==1:\n",
    "    for i in arr:\n",
    "      result.append([i])\n",
    "\n",
    "  elif n>1:\n",
    "    for i in range(len(arr)):\n",
    "      for j in comb(arr[i+1:],n-1):\n",
    "        result.append(arr[i]+j)\n",
    "  return result\n",
    "\n",
    "M=int(input())\n",
    "color_num=map(int,input().spilt())\n",
    "K=int(input())\n",
    "total=len(comb())\n"
   ]
  },
  {
   "cell_type": "code",
   "execution_count": null,
   "metadata": {},
   "outputs": [
    {
     "name": "stdout",
     "output_type": "stream",
     "text": [
      "0.035028830818304504\n"
     ]
    }
   ],
   "source": [
    "import math\n",
    "\n",
    "def combination(n,r):\n",
    "  if r>n:\n",
    "    return 0\n",
    "  return math.comb(n,r)\n",
    "\n",
    "M=int(input())\n",
    "color_num=list(map(int,input().split()))\n",
    "K=int(input())\n",
    "\n",
    "total=combination(sum(color_num),K)\n",
    "\n",
    "caculation=0\n",
    "for i in color_num:\n",
    "  caculation+=combination(i,K)\n",
    "\n",
    "result=caculation/total\n",
    "print(f\"{result:.9f}\")\n"
   ]
  }
 ],
 "metadata": {
  "kernelspec": {
   "display_name": "Python 3",
   "language": "python",
   "name": "python3"
  },
  "language_info": {
   "codemirror_mode": {
    "name": "ipython",
    "version": 3
   },
   "file_extension": ".py",
   "mimetype": "text/x-python",
   "name": "python",
   "nbconvert_exporter": "python",
   "pygments_lexer": "ipython3",
   "version": "3.13.2"
  }
 },
 "nbformat": 4,
 "nbformat_minor": 2
}
