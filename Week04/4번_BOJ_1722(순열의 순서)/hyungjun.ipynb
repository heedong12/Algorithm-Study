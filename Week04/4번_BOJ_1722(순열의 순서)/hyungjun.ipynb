{
 "cells": [
  {
   "cell_type": "code",
   "execution_count": 25,
   "metadata": {},
   "outputs": [
    {
     "name": "stdout",
     "output_type": "stream",
     "text": [
      "7\n"
     ]
    }
   ],
   "source": [
    "import math\n",
    "\n",
    "N = int(input())\n",
    "condition = list(map(int, input().split()))\n",
    "numbers = [i for i in range(1,N+1)]\n",
    "if condition[0] == 1:\n",
    "    P = condition[1] - 1\n",
    "    result = []\n",
    "    index = 1\n",
    "    for i in range(N,0,-1):\n",
    "        result.append(numbers.pop(P//math.factorial(i-1))) #몫을 구한다음 numbers에서 제외\n",
    "        P = P % math.factorial(i-1)\n",
    "    print(*result)\n",
    "else:\n",
    "    order = condition[1:N+1]\n",
    "    result = 1\n",
    "    for i in range(N): \n",
    "        index =numbers.index(order[i])\n",
    "        numbers.pop(index)\n",
    "        result += index * math.factorial(N-(i+1))\n",
    "\n",
    "    print(result)\n",
    "        \n",
    "\n",
    "    "
   ]
  }
 ],
 "metadata": {
  "kernelspec": {
   "display_name": "Python 3",
   "language": "python",
   "name": "python3"
  },
  "language_info": {
   "codemirror_mode": {
    "name": "ipython",
    "version": 3
   },
   "file_extension": ".py",
   "mimetype": "text/x-python",
   "name": "python",
   "nbconvert_exporter": "python",
   "pygments_lexer": "ipython3",
   "version": "3.8.6"
  }
 },
 "nbformat": 4,
 "nbformat_minor": 2
}
