{
 "cells": [
  {
   "cell_type": "code",
   "execution_count": null,
   "metadata": {},
   "outputs": [],
   "source": [
    "N = int(input())\n",
    "condition = list(map(int, input().split()))\n"
   ]
  },
  {
   "cell_type": "code",
   "execution_count": null,
   "metadata": {},
   "outputs": [
    {
     "ename": "TypeError",
     "evalue": "backtracking() missing 1 required positional argument: 'order'",
     "output_type": "error",
     "traceback": [
      "\u001b[1;31m---------------------------------------------------------------------------\u001b[0m",
      "\u001b[1;31mTypeError\u001b[0m                                 Traceback (most recent call last)",
      "Cell \u001b[1;32mIn[7], line 26\u001b[0m\n\u001b[0;32m     24\u001b[0m             visited[i] \u001b[38;5;241m=\u001b[39m \u001b[38;5;28;01mFalse\u001b[39;00m\n\u001b[0;32m     25\u001b[0m             combi\u001b[38;5;241m.\u001b[39mpop()\n\u001b[1;32m---> 26\u001b[0m \u001b[43mbacktracking\u001b[49m\u001b[43m(\u001b[49m\u001b[43mN\u001b[49m\u001b[43m,\u001b[49m\u001b[38;5;241;43m0\u001b[39;49m\u001b[43m,\u001b[49m\u001b[43m[\u001b[49m\u001b[43m]\u001b[49m\u001b[43m,\u001b[49m\u001b[43mcompare\u001b[49m\u001b[43m[\u001b[49m\u001b[38;5;241;43m0\u001b[39;49m\u001b[43m]\u001b[49m\u001b[43m)\u001b[49m\n\u001b[0;32m     27\u001b[0m \u001b[38;5;28mprint\u001b[39m(compare[\u001b[38;5;241m2\u001b[39m])\n",
      "Cell \u001b[1;32mIn[7], line 23\u001b[0m, in \u001b[0;36mbacktracking\u001b[1;34m(N, depth, combi, order)\u001b[0m\n\u001b[0;32m     21\u001b[0m combi\u001b[38;5;241m.\u001b[39mappend(i)\n\u001b[0;32m     22\u001b[0m visited[i] \u001b[38;5;241m=\u001b[39m \u001b[38;5;28;01mTrue\u001b[39;00m\n\u001b[1;32m---> 23\u001b[0m \u001b[43mbacktracking\u001b[49m\u001b[43m(\u001b[49m\u001b[43mN\u001b[49m\u001b[43m,\u001b[49m\u001b[43mdepth\u001b[49m\u001b[38;5;241;43m+\u001b[39;49m\u001b[38;5;241;43m1\u001b[39;49m\u001b[43m,\u001b[49m\u001b[43mcombi\u001b[49m\u001b[43m)\u001b[49m\n\u001b[0;32m     24\u001b[0m visited[i] \u001b[38;5;241m=\u001b[39m \u001b[38;5;28;01mFalse\u001b[39;00m\n\u001b[0;32m     25\u001b[0m combi\u001b[38;5;241m.\u001b[39mpop()\n",
      "\u001b[1;31mTypeError\u001b[0m: backtracking() missing 1 required positional argument: 'order'"
     ]
    }
   ],
   "source": [
    "N = int(input())\n",
    "condition = list(map(int, input().split()))\n",
    "visited = [False] * (N+1)\n",
    "compare = [0,[]]\n",
    "if condition[0] == 1:\n",
    "    compare[0] = condition[1]\n",
    "else:\n",
    "    compare[1] = condition[1:N+1]\n",
    "def backtracking(N,depth,combi,order):\n",
    "    if depth == N:\n",
    "        order += 1\n",
    "        if order == compare[0]:\n",
    "            compare.append(combi[:])\n",
    "            exit()\n",
    "        if combi == compare[1]:\n",
    "            compare.append(combi[:])\n",
    "            exit()\n",
    "        return \n",
    "    for i in range(1,N+1):\n",
    "        if not visited[i]:\n",
    "            combi.append(i)\n",
    "            visited[i] = True\n",
    "            backtracking(N,depth+1,combi,order)\n",
    "            visited[i] = False\n",
    "            combi.pop()\n",
    "backtracking(N,0,[],compare[0])\n",
    "print(compare[2])\n",
    "    "
   ]
  }
 ],
 "metadata": {
  "kernelspec": {
   "display_name": "Python 3",
   "language": "python",
   "name": "python3"
  },
  "language_info": {
   "codemirror_mode": {
    "name": "ipython",
    "version": 3
   },
   "file_extension": ".py",
   "mimetype": "text/x-python",
   "name": "python",
   "nbconvert_exporter": "python",
   "pygments_lexer": "ipython3",
   "version": "3.8.6"
  }
 },
 "nbformat": 4,
 "nbformat_minor": 2
}
