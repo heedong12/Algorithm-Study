{
 "cells": [
  {
   "cell_type": "code",
   "execution_count": null,
   "metadata": {},
   "outputs": [
    {
     "name": "stdout",
     "output_type": "stream",
     "text": [
      "3\n"
     ]
    }
   ],
   "source": [
    "import math\n",
    "\n",
    "def find_nums(N, index):\n",
    "    number = list(range(1, N + 1))  \n",
    "    index -= 1  # 인덱스 맞추기\n",
    "    result = []\n",
    "\n",
    "    for i in range(N, 0, -1):\n",
    "        fact = math.factorial(i - 1)  # (i-1)! 계산\n",
    "        number_index = index // fact  # 현재 자리에서 선택할 인덱스\n",
    "        result.append(number.pop(number_index)) \n",
    "        index %= fact  \n",
    "\n",
    "    return result\n",
    "\n",
    "\n",
    "\n",
    "\n",
    "def find_num(N,K):\n",
    "    number = list(range(1,N+1))\n",
    "    index=0 \n",
    "\n",
    "    for i in range(N):\n",
    "        fact = math.factorial(N - 1 - i)\n",
    "        num=K[i] # i번째 원소\n",
    "        number_index=number.index(num) # number list에서 num의 index\n",
    "        index += number_index*fact\n",
    "        number.pop(number_index)\n",
    "\n",
    "    return index+1\n",
    "        \n",
    "\n",
    "\n",
    "\n",
    "\n",
    "N=int(input())\n",
    "problem, *K=map(int, input().split())\n",
    "if problem==1:\n",
    "    result=find_nums(N,K[0])\n",
    "    print(*result)\n",
    "\n",
    "elif problem==2:\n",
    "    result=find_num(N,K)\n",
    "    print(result)\n",
    " "
   ]
  },
  {
   "cell_type": "code",
   "execution_count": null,
   "metadata": {},
   "outputs": [],
   "source": []
  }
 ],
 "metadata": {
  "kernelspec": {
   "display_name": "Python 3",
   "language": "python",
   "name": "python3"
  },
  "language_info": {
   "codemirror_mode": {
    "name": "ipython",
    "version": 3
   },
   "file_extension": ".py",
   "mimetype": "text/x-python",
   "name": "python",
   "nbconvert_exporter": "python",
   "pygments_lexer": "ipython3",
   "version": "3.13.2"
  }
 },
 "nbformat": 4,
 "nbformat_minor": 2
}
