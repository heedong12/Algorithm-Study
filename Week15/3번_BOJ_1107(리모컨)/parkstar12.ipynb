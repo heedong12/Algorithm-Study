{
 "cells": [
  {
   "cell_type": "code",
   "execution_count": null,
   "id": "e54060bb",
   "metadata": {},
   "outputs": [],
   "source": [
    "n = int(input())\n",
    "m = int(input())\n",
    "\n",
    "if m == 0:\n",
    "    buttons = []\n",
    "else:\n",
    "    buttons = list(map(int, input().split()))\n",
    "\n",
    "minimum = abs(100 - n)\n",
    "\n",
    "for i in range(999999):\n",
    "    num = str(i)\n",
    "\n",
    "    for j in num:\n",
    "        if int(j) in buttons:\n",
    "            break\n",
    "\n",
    "    else:\n",
    "        minimum = min(minimum, abs(n - i) + len(num))\n",
    "\n",
    "print(minimum)"
   ]
  }
 ],
 "metadata": {
  "language_info": {
   "name": "python"
  }
 },
 "nbformat": 4,
 "nbformat_minor": 5
}
