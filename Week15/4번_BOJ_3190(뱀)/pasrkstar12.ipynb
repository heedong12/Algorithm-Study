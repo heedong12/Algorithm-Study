{
 "cells": [
  {
   "cell_type": "code",
   "execution_count": null,
   "id": "3604ec99",
   "metadata": {},
   "outputs": [
    {
     "name": "stdout",
     "output_type": "stream",
     "text": [
      "8\n"
     ]
    }
   ],
   "source": [
    "from collections import deque\n",
    "\n",
    "def move():\n",
    "    head_x, head_y = snake[-1]\n",
    "    dx, dy = dd[direction]\n",
    "    nx, ny = head_x + dx, head_y + dy\n",
    "\n",
    "    if not (0 <= nx < N and 0 <= ny < N):\n",
    "        return False\n",
    "    if visited[nx][ny]:\n",
    "        return False\n",
    "\n",
    "    visited[nx][ny] = True\n",
    "    snake.append((nx, ny))\n",
    "\n",
    "    if board[nx][ny] == 1:\n",
    "        board[nx][ny] = 0  # 사과 먹음\n",
    "    else:\n",
    "        tail_x, tail_y = snake.popleft()\n",
    "        visited[tail_x][tail_y] = False\n",
    "\n",
    "    return True\n",
    "\n",
    "# 입력\n",
    "N = int(input())\n",
    "K = int(input())\n",
    "board = [[0]*N for _ in range(N)]\n",
    "visited = [[False]*N for _ in range(N)]\n",
    "\n",
    "for _ in range(K):\n",
    "    r, c = map(int, input().split())\n",
    "    board[r-1][c-1] = 1\n",
    "\n",
    "L = int(input())\n",
    "turn = {}\n",
    "for _ in range(L):\n",
    "    X, C = input().split()\n",
    "    turn[int(X)] = C\n",
    "\n",
    "# 초기 상태\n",
    "dd = [(0,1), (1,0), (0,-1), (-1,0)]  # 우, 하, 좌, 상\n",
    "direction = 0\n",
    "snake = deque()\n",
    "snake.append((0, 0))\n",
    "visited[0][0] = True\n",
    "\n",
    "count = 0\n",
    "while True:\n",
    "    count += 1\n",
    "\n",
    "    if not move():\n",
    "        print(count)\n",
    "        break\n",
    "\n",
    "    if count in turn:\n",
    "        if turn[count] == 'L':\n",
    "            direction = (direction - 1) % 4\n",
    "        else:  # \"D\"\n",
    "            direction = (direction + 1) % 4\n"
   ]
  }
 ],
 "metadata": {
  "kernelspec": {
   "display_name": "Python 3",
   "language": "python",
   "name": "python3"
  },
  "language_info": {
   "codemirror_mode": {
    "name": "ipython",
    "version": 3
   },
   "file_extension": ".py",
   "mimetype": "text/x-python",
   "name": "python",
   "nbconvert_exporter": "python",
   "pygments_lexer": "ipython3",
   "version": "3.11.9"
  }
 },
 "nbformat": 4,
 "nbformat_minor": 5
}
