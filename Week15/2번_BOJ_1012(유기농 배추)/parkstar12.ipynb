{
 "cells": [
  {
   "cell_type": "code",
   "execution_count": null,
   "id": "14706f8c",
   "metadata": {},
   "outputs": [
    {
     "name": "stdout",
     "output_type": "stream",
     "text": [
      "5\n"
     ]
    }
   ],
   "source": [
    "T=int(input())\n",
    "dx=[0,0,1,-1]\n",
    "dy=[1,-1,0,0]\n",
    "\n",
    "for t in range(T):\n",
    "  M,N,K=map(int,input().split())\n",
    "  board = [ [0] * M for _ in range(N) ]\n",
    "  visited = [ [False] * M for _ in range(N) ]\n",
    "  start = []\n",
    "  for _ in range(K):\n",
    "    i,j = map(int,input().split())\n",
    "    board[j][i] = 1\n",
    "    start.append( [j,i] )\n",
    "  \n",
    "  count = 0\n",
    "  stack = []\n",
    "  while start :\n",
    "    x,y = start.pop()\n",
    "    if visited[x][y] :\n",
    "      continue\n",
    "    else:\n",
    "      visited[x][y] = True\n",
    "\n",
    "    stack.append( [x,y] )\n",
    "\n",
    "    while stack :\n",
    "      now_x, now_y = stack.pop()\n",
    "      for d in range(4) :\n",
    "        nx = now_x + dx[d]\n",
    "        ny = now_y + dy[d]\n",
    "\n",
    "        if 0 <= nx < N and 0 <= ny < M :\n",
    "          if board[nx][ny] == 1 and not visited[nx][ny] :\n",
    "            stack.append( [nx,ny] )\n",
    "            visited[nx][ny] = True\n",
    "\n",
    "    count += 1\n",
    "  print(count)"
   ]
  }
 ],
 "metadata": {
  "kernelspec": {
   "display_name": "Python 3",
   "language": "python",
   "name": "python3"
  },
  "language_info": {
   "codemirror_mode": {
    "name": "ipython",
    "version": 3
   },
   "file_extension": ".py",
   "mimetype": "text/x-python",
   "name": "python",
   "nbconvert_exporter": "python",
   "pygments_lexer": "ipython3",
   "version": "3.13.2"
  }
 },
 "nbformat": 4,
 "nbformat_minor": 5
}
